{
 "cells": [
  {
   "cell_type": "markdown",
   "metadata": {},
   "source": [
    "# Celery on Docker Swarm  \n",
    "\n",
    "Wei Lin"
   ]
  },
  {
   "cell_type": "markdown",
   "metadata": {},
   "source": [
    "### Abstract\n",
    " In the territory of Python, Celery is a famous distributed task queue framework, its Canvas mechanism is specially powerful in building complex workflow. \n",
    "\n",
    " Celery can function in distributed environment and go perfectly along with Docker-Swarm: Docker-Swarm provides a cluster environment and the worker containers to sustain Celery; worker containers and processes and be dynamically scaled and expanded to fulfill Celery's need, work together parallelly to accomplish the computation. \n",
    " \n",
    " With Docker-Swarm , a cluster will be built upon two Raspberry Pi machines. Hadoop entry-level \"Word Count\" program will be re-writen in Python and executed parallelly via Celery on the cluster."
   ]
  },
  {
   "cell_type": "markdown",
   "metadata": {},
   "source": [
    "## Steps:"
   ]
  },
  {
   "cell_type": "markdown",
   "metadata": {},
   "source": [
    "### 1. Establish a Docker Swarm: \n",
    "With reference to the article \"[Let Docker Swarm all over your Raspberry Pi Cluster](http://blog.hypriot.com/post/let-docker-swarm-all-over-your-raspberry-pi-cluster/)\", a Docker-Swarm had been built upon two Raspberry Pi machines."
   ]
  },
  {
   "cell_type": "markdown",
   "metadata": {},
   "source": [
    "#### The swarm is composited fo two Docker machines:\n",
    "- host rpi202(192.168.0.114) as Swarm Manager，the Docker machine name is \"master01\".\n",
    "- host rpi201(192.168.0.109) as Swarm Node，the Docker machine name is \"node01\"."
   ]
  },
  {
   "cell_type": "code",
   "execution_count": null,
   "metadata": {
    "collapsed": true
   },
   "outputs": [],
   "source": [
    "HypriotOS: pi@rpi202 in ~\n",
    "$ docker-machine ls\n",
    "NAME       ACTIVE   DRIVER    STATE     URL                        SWARM\n",
    "master01            hypriot   Running   tcp://192.168.0.114:2376   master01 (master)\n",
    "node01              hypriot   Running   tcp://192.168.0.109:2376   master01\n",
    "HypriotOS: pi@rpi202 in ~\n",
    "$\n",
    "\n",
    "\n",
    "# Nodes in the swarm:\n",
    "\n",
    "HypriotOS: pi@rpi202 in ~\n",
    "$ docker $(docker-machine config --swarm master01) info\n",
    "Containers: 4\n",
    "Images: 51\n",
    "Role: primary\n",
    "Strategy: spread\n",
    "Filters: health, port, dependency, affinity, constraint\n",
    "Nodes: 2\n",
    " master01: 192.168.0.114:2376\n",
    "  └ Status: Healthy\n",
    "  └ Containers: 3\n",
    "  └ Reserved CPUs: 0 / 4\n",
    "  └ Reserved Memory: 0 B / 972 MiB\n",
    "  └ Labels: executiondriver=native-0.2, kernelversion=4.1.8-hypriotos-v7+, operatingsystem=Raspbian GNU/Linux 8 (jessie), provider=hypriot, storagedriver=overlay\n",
    " node01: 192.168.0.109:2376\n",
    "  └ Status: Healthy\n",
    "  └ Containers: 1\n",
    "  └ Reserved CPUs: 0 / 4\n",
    "  └ Reserved Memory: 0 B / 972 MiB\n",
    "  └ Labels: executiondriver=native-0.2, kernelversion=4.1.8-hypriotos-v7+, operatingsystem=Raspbian GNU/Linux 8 (jessie), provider=hypriot, storagedriver=overlay\n",
    "CPUs: 8\n",
    "Total Memory: 1.899 GiB\n",
    "Name: b7def5d9af98\n",
    "HypriotOS: pi@rpi202 in ~\n",
    "$"
   ]
  },
  {
   "cell_type": "markdown",
   "metadata": {},
   "source": [
    "### 2. Establish the broker for Celery, with a Docker container running Redis."
   ]
  },
  {
   "cell_type": "code",
   "execution_count": null,
   "metadata": {
    "collapsed": true
   },
   "outputs": [],
   "source": [
    "HypriotOS: pi@rpi202 in ~\n",
    "$ docker run -d -p 6379:6379 --net=mynet --name=redis --volume=/data:/data hypriot/rpi-redis\n",
    "a2abf9277b5e4818da89ffa282a706506ef288426486cc25b431208564bf6e0f\n",
    "\n",
    "\n",
    "HypriotOS: pi@rpi202 in ~\n",
    "$ docker ps\n",
    "CONTAINER ID        IMAGE                      COMMAND                  CREATED             STATUS              PORTS                                                                    NAMES\n",
    "a2abf9277b5e        hypriot/rpi-redis          \"/entrypoint.sh redis\"   13 hours ago        Up About an hour    0.0.0.0:6379->6379/tcp                                                   redis\n",
    "f0ce33ca1152        hypriot/rpi-swarm          \"/swarm join --advert\"   6 days ago          Up 6 days           2375/tcp                                                                 swarm-agent\n",
    "b7def5d9af98        hypriot/rpi-swarm          \"/swarm manage --tlsv\"   6 days ago          Up 6 days           0.0.0.0:3376->3376/tcp, 2375/tcp                                         swarm-agent-master\n",
    "ad594813f8f0        nimblestratus/rpi-consul   \"/bin/start -server -\"   6 days ago          Up 6 days           53/udp, 8300-8302/tcp, 8301-8302/udp, 8400/tcp, 0.0.0.0:8500->8500/tcp   consul\n",
    "HypriotOS: pi@rpi202 in ~\n",
    "$"
   ]
  },
  {
   "cell_type": "markdown",
   "metadata": {},
   "source": [
    "### 3. Copy celeryconfig.py、start_workers.sh、and the folder \"word_count\" to two hosts, under the folder of /data/celery_projects. "
   ]
  },
  {
   "cell_type": "code",
   "execution_count": null,
   "metadata": {
    "collapsed": true
   },
   "outputs": [],
   "source": [
    "HypriotOS: pi@rpi202 in /data/celery_projects\n",
    "$ ll\n",
    "total 20\n",
    "drwxr-xr-x 3  999 root 4096 Jan 25 23:01 ./\n",
    "drwxr-xr-x 3  999 root 4096 Jan 25 23:01 ../\n",
    "-rw-r--r-- 1  999 root 1079 Jan 25 21:12 celeryconfig.py\n",
    "-rwxr-xr-x 1  999 root  732 Jan 25 22:53 start_workers.sh*  <--- script to start up worker containers.\n",
    "drwxr-xr-x 3 root root 4096 Jan 25 23:01 word_count/\n",
    "HypriotOS: pi@rpi202 in /data/celery_projects\n",
    "$\n",
    "\n",
    "\n",
    "HypriotOS: pi@rpi201 in /data/celery_projects\n",
    "$ ll\n",
    "total 20\n",
    "drwxr-xr-x 3 root root 4096 Jan 25 23:03 ./\n",
    "drwxr-xr-x 3  999 root 4096 Jan 25 22:55 ../\n",
    "-rw-r--r-- 1 root root 1079 Jan 25 21:12 celeryconfig.py \n",
    "drwxr-xr-x 3 root root 4096 Jan 25 23:03 word_count/\n",
    "HypriotOS: pi@rpi201 in /data/celery_projects\n",
    "$"
   ]
  },
  {
   "cell_type": "markdown",
   "metadata": {},
   "source": [
    "### 4. Establish [Flower ](http://docs.celeryproject.org/en/latest/userguide/monitoring.html#flower-real-time-celery-web-monitor) container for monitoring."
   ]
  },
  {
   "cell_type": "code",
   "execution_count": null,
   "metadata": {
    "collapsed": true
   },
   "outputs": [],
   "source": [
    "HypriotOS: pi@rpi202 in ~\n",
    "$ docker run -d -p 5555:5555 --net=mynet --name=flower --volume=/data/celery_projects:/celery_projects wei1234c/celery_armv7 /bin/sh -c \"cd /celery_projects && celery -A word_count flower\"\n",
    "276f00591fd7042139ddf660730d223bcf19e9f8bd369f075de417140b6dfd4a\n",
    "HypriotOS: pi@rpi202 in ~\n",
    "$\n",
    "\n",
    "\n",
    "HypriotOS: pi@rpi202 in ~\n",
    "$ docker ps\n",
    "CONTAINER ID        IMAGE                      COMMAND                  CREATED             STATUS              PORTS                     NAMES\n",
    "276f00591fd7        wei1234c/celery_armv7      \"/bin/sh -c 'cd /cele\"   31 seconds ago      Up 27 seconds       0.0.0.0:5555->5555/tcp    flower"
   ]
  },
  {
   "cell_type": "markdown",
   "metadata": {},
   "source": [
    "#### Connect to container of Flower, view with a web browser, no tasks yet.\n",
    "![](./jpgs/flower1.jpg)"
   ]
  },
  {
   "cell_type": "markdown",
   "metadata": {},
   "source": [
    "### 5. Deploy Celery worker containers through Swarm-Manager."
   ]
  },
  {
   "cell_type": "markdown",
   "metadata": {},
   "source": [
    "#### deploy worker containers with :\n",
    "start_workers.sh"
   ]
  },
  {
   "cell_type": "code",
   "execution_count": null,
   "metadata": {
    "collapsed": true
   },
   "outputs": [],
   "source": [
    "# ./start_workers.sh\n",
    "\n",
    "echo \"Starting Celery cluster containers _________________________________________________\"\n",
    "\n",
    "eval $(docker-machine env --swarm master01)\n",
    "\n",
    "PROJECT=$1  # project name\n",
    "WORKER_START_ID=$2  # worker container index, the first one. \n",
    "WORKER_LAST_ID=$3  # worker container index, the last one. \n",
    "CONCURRENCY=$4  # number of subprocesses per worker.\n",
    "\n",
    "for (( i=${WORKER_START_ID}; i<=${WORKER_LAST_ID}; i=i+1 ))\n",
    "do\n",
    "  docker run -d --name=${PROJECT}_celery${i} --hostname=${PROJECT}_celery${i} --net=mynet --volume=/data/celery_projects:/celery_projects wei1234c/celery_armv7 /bin/sh -c \"cd /celery_projects && celery -A ${PROJECT} worker -n worker${i}.%h --concurrency=${CONCURRENCY} --loglevel=INFO\"\n",
    "done"
   ]
  },
  {
   "cell_type": "markdown",
   "metadata": {},
   "source": [
    "#### Establish Celery worker containers for the first round.\n",
    "Four containers were established，each container has one Celery worker，each worker can have 5 subprocesses at most。"
   ]
  },
  {
   "cell_type": "code",
   "execution_count": null,
   "metadata": {
    "collapsed": false
   },
   "outputs": [],
   "source": [
    "# CLI parameters:\n",
    "# $1 # project name\n",
    "# $2 # worker container index, the first one.\n",
    "# $3 # worker container index, the last one.  \n",
    "# $4 # number of subprocesses per worker.\n",
    "\n",
    "HypriotOS: pi@rpi202 in /data/celery_projects\n",
    "$ ./start_workers.sh word_count 1 4 5\n",
    "Starting Celery cluster containers _________________________________________________\n",
    "a22b08a0818b3246f90511ad21cb2a0ab37a4e72661bf559ade7e320db030505\n",
    "77eabded27e4ea3aaa640480c088fa7b4b9818fc3e40fb66636cc9abe8a78e69\n",
    "df05a7204f40470cfd8eee21a06be45f5a306ea32df0196f3d004beac5d2f82d\n",
    "e67d39740ace5c2a5b9a05e6ca1adc73c5e5944e62302d02391d37f7ee6aa479\n",
    "\n",
    "\n",
    "\n",
    "# Four containers were established，each container has one Celery worker，each worker can have 5 subprocesses at most。\n",
    "\n",
    "HypriotOS: pi@rpi202 in /data/celery_projects\n",
    "$ docker ps\n",
    "CONTAINER ID        IMAGE                      COMMAND                  CREATED              STATUS              PORTS                                                                          NAMES\n",
    "e67d39740ace        wei1234c/celery_armv7      \"/bin/sh -c 'cd /cele\"   About a minute ago   Up About a minute   5555/tcp                                                                       node01/word_count_celery4\n",
    "df05a7204f40        wei1234c/celery_armv7      \"/bin/sh -c 'cd /cele\"   About a minute ago   Up About a minute   5555/tcp                                                                       node01/word_count_celery3\n",
    "77eabded27e4        wei1234c/celery_armv7      \"/bin/sh -c 'cd /cele\"   About a minute ago   Up About a minute   5555/tcp                                                                       node01/word_count_celery2\n",
    "a22b08a0818b        wei1234c/celery_armv7      \"/bin/sh -c 'cd /cele\"   About a minute ago   Up About a minute   5555/tcp                                                                       node01/word_count_celery1\n",
    "276f00591fd7        wei1234c/celery_armv7      \"/bin/sh -c 'cd /cele\"   37 minutes ago       Up 5 minutes        192.168.0.114:5555->5555/tcp                                                   master01/flower\n",
    "a2abf9277b5e        hypriot/rpi-redis          \"/entrypoint.sh redis\"   13 hours ago         Up About an hour    192.168.0.114:6379->6379/tcp                                                   master01/redis\n",
    "980161d10fc4        hypriot/rpi-swarm          \"/swarm join --advert\"   6 days ago           Up 6 days           2375/tcp                                                                       node01/swarm-agent\n",
    "f0ce33ca1152        hypriot/rpi-swarm          \"/swarm join --advert\"   6 days ago           Up 6 days           2375/tcp                                                                       master01/swarm-agent\n",
    "b7def5d9af98        hypriot/rpi-swarm          \"/swarm manage --tlsv\"   6 days ago           Up 6 days           2375/tcp, 192.168.0.114:3376->3376/tcp                                         master01/swarm-agent-master\n",
    "ad594813f8f0        nimblestratus/rpi-consul   \"/bin/start -server -\"   6 days ago           Up 6 days           53/udp, 8300-8302/tcp, 8301-8302/udp, 8400/tcp, 192.168.0.114:8500->8500/tcp   master01/consul\n",
    "HypriotOS: pi@rpi202 in /data/celery_projects\n",
    "$"
   ]
  },
  {
   "cell_type": "markdown",
   "metadata": {},
   "source": [
    "#### Flower shows the status. There are four workers.\n",
    "- celery@worker1.word_count_celery1\n",
    "- celery@worker2.word_count_celery2\n",
    "- celery@worker3.word_count_celery3\n",
    "- celery@worker4.word_count_celery4  \n",
    "\n",
    "![](./jpgs/flower22.jpg)"
   ]
  },
  {
   "cell_type": "markdown",
   "metadata": {},
   "source": [
    "#### Expand Celery worker containers for the second round.\n",
    "The Celery cluster can be scaled up dynamically, in response to the need of performance.  \n",
    "Adding 4 containers, each container has one Celery worker, each worker has 5 subprocesses at most.   "
   ]
  },
  {
   "cell_type": "code",
   "execution_count": null,
   "metadata": {
    "collapsed": true
   },
   "outputs": [],
   "source": [
    "# CLI parameters:\n",
    "# $1 # project name\n",
    "# $2 # worker container index, the first one.\n",
    "# $3 # worker container index, the last one.  \n",
    "# $4 # number of subprocesses per worker.\n",
    "\n",
    "HypriotOS: pi@rpi202 in /data/celery_projects\n",
    "$ ./start_workers.sh word_count 5 8 5\n",
    "Starting Celery cluster containers _________________________________________________\n",
    "a4de4967fd6211266cbad04fecfc357aa81789063cca3042388019adab2a6c71\n",
    "7066ba6021de870f1332858c6f96673a159d7e5031a5682d3853fa6bd8fe2252\n",
    "79792c823fbf2769e4983c525598c30ba3758c23697ef66a78a54163374d3233\n",
    "25c02d07ed6f1217ee68dc486a6586262ca2e3ed01a2a8690eaa2a783ad07d73\n",
    "\n",
    "\n",
    "HypriotOS: pi@rpi202 in /data/celery_projects\n",
    "$ docker ps\n",
    "CONTAINER ID        IMAGE                      COMMAND                  CREATED              STATUS              PORTS                                                                          NAMES\n",
    "25c02d07ed6f        wei1234c/celery_armv7      \"/bin/sh -c 'cd /cele\"   18 seconds ago       Up 12 seconds       5555/tcp                                                                       node01/word_count_celery8\n",
    "79792c823fbf        wei1234c/celery_armv7      \"/bin/sh -c 'cd /cele\"   39 seconds ago       Up 25 seconds       5555/tcp                                                                       master01/word_count_celery7\n",
    "7066ba6021de        wei1234c/celery_armv7      \"/bin/sh -c 'cd /cele\"   About a minute ago   Up 45 seconds       5555/tcp                                                                       node01/word_count_celery6\n",
    "a4de4967fd62        wei1234c/celery_armv7      \"/bin/sh -c 'cd /cele\"   About a minute ago   Up About a minute   5555/tcp                                                                       master01/word_count_celery5\n",
    "e67d39740ace        wei1234c/celery_armv7      \"/bin/sh -c 'cd /cele\"   15 minutes ago       Up 15 minutes       5555/tcp                                                                       node01/word_count_celery4\n",
    "df05a7204f40        wei1234c/celery_armv7      \"/bin/sh -c 'cd /cele\"   15 minutes ago       Up 15 minutes       5555/tcp                                                                       node01/word_count_celery3\n",
    "77eabded27e4        wei1234c/celery_armv7      \"/bin/sh -c 'cd /cele\"   15 minutes ago       Up 15 minutes       5555/tcp                                                                       node01/word_count_celery2\n",
    "a22b08a0818b        wei1234c/celery_armv7      \"/bin/sh -c 'cd /cele\"   16 minutes ago       Up 16 minutes       5555/tcp                                                                       node01/word_count_celery1\n",
    "276f00591fd7        wei1234c/celery_armv7      \"/bin/sh -c 'cd /cele\"   51 minutes ago       Up 19 minutes       192.168.0.114:5555->5555/tcp                                                   master01/flower\n",
    "a2abf9277b5e        hypriot/rpi-redis          \"/entrypoint.sh redis\"   14 hours ago         Up 2 hours          192.168.0.114:6379->6379/tcp                                                   master01/redis\n",
    "980161d10fc4        hypriot/rpi-swarm          \"/swarm join --advert\"   6 days ago           Up 6 days           2375/tcp                                                                       node01/swarm-agent\n",
    "f0ce33ca1152        hypriot/rpi-swarm          \"/swarm join --advert\"   6 days ago           Up 6 days           2375/tcp                                                                       master01/swarm-agent\n",
    "b7def5d9af98        hypriot/rpi-swarm          \"/swarm manage --tlsv\"   6 days ago           Up 6 days           2375/tcp, 192.168.0.114:3376->3376/tcp                                         master01/swarm-agent-master\n",
    "ad594813f8f0        nimblestratus/rpi-consul   \"/bin/start -server -\"   6 days ago           Up 6 days           53/udp, 8300-8302/tcp, 8301-8302/udp, 8400/tcp, 192.168.0.114:8500->8500/tcp   master01/consul\n",
    "HypriotOS: pi@rpi202 in /data/celery_projects\n",
    "$"
   ]
  },
  {
   "cell_type": "markdown",
   "metadata": {},
   "source": [
    "#### We can also view the list of Swarm nodes."
   ]
  },
  {
   "cell_type": "code",
   "execution_count": null,
   "metadata": {
    "collapsed": true
   },
   "outputs": [],
   "source": [
    "HypriotOS: pi@rpi201 in /data/celery_projects\n",
    "$ docker ps\n",
    "CONTAINER ID        IMAGE                   COMMAND                  CREATED             STATUS              PORTS               NAMES\n",
    "25c02d07ed6f        wei1234c/celery_armv7   \"/bin/sh -c 'cd /cele\"   16 minutes ago      Up 16 minutes       5555/tcp            word_count_celery8\n",
    "7066ba6021de        wei1234c/celery_armv7   \"/bin/sh -c 'cd /cele\"   17 minutes ago      Up 17 minutes       5555/tcp            word_count_celery6\n",
    "e67d39740ace        wei1234c/celery_armv7   \"/bin/sh -c 'cd /cele\"   32 minutes ago      Up 31 minutes       5555/tcp            word_count_celery4\n",
    "df05a7204f40        wei1234c/celery_armv7   \"/bin/sh -c 'cd /cele\"   32 minutes ago      Up 32 minutes       5555/tcp            word_count_celery3\n",
    "77eabded27e4        wei1234c/celery_armv7   \"/bin/sh -c 'cd /cele\"   32 minutes ago      Up 32 minutes       5555/tcp            word_count_celery2\n",
    "a22b08a0818b        wei1234c/celery_armv7   \"/bin/sh -c 'cd /cele\"   32 minutes ago      Up 32 minutes       5555/tcp            word_count_celery1\n",
    "980161d10fc4        hypriot/rpi-swarm       \"/swarm join --advert\"   6 days ago          Up 6 days           2375/tcp            swarm-agent\n",
    "HypriotOS: pi@rpi201 in /data/celery_projects\n",
    "$"
   ]
  },
  {
   "cell_type": "markdown",
   "metadata": {},
   "source": [
    "#### Flower shows the workers.  We have 8 of them now.\n",
    "\n",
    "![](./jpgs/flower3.jpg)"
   ]
  },
  {
   "cell_type": "markdown",
   "metadata": {},
   "source": [
    "### \"Word Count\" program re-writen in Python."
   ]
  },
  {
   "cell_type": "code",
   "execution_count": 18,
   "metadata": {
    "collapsed": true
   },
   "outputs": [],
   "source": [
    "from word_count.tasks import * \n",
    " \n",
    "# split text file into a list of words    \n",
    "def getWordsFromText(file = '.\\\\text\\\\test.txt'):\n",
    "    with open(file) as f:\n",
    "        lines = f.readlines()        \n",
    "    return ' '.join(lines).replace(',', '').replace('.', '').split()\n",
    "\n",
    "\n",
    "def reduce(word_counts):    \n",
    "    wordCounts = {}\n",
    "    \n",
    "    for word_count in word_counts:\n",
    "        if word_count is not None: \n",
    "            wordCounts[word_count[0]] = wordCounts.get(word_count[0], 0) + word_count[1]\n",
    "        \n",
    "    result = sorted(list(wordCounts.items()), \n",
    "                    key = lambda x: (x[1], x[0]), \n",
    "                    reverse = True)    \n",
    "    return result"
   ]
  },
  {
   "cell_type": "code",
   "execution_count": 19,
   "metadata": {
    "collapsed": false
   },
   "outputs": [
    {
     "data": {
      "text/plain": [
       "[\"Aesop's\", 'Fables', 'Translated']"
      ]
     },
     "execution_count": 19,
     "metadata": {},
     "output_type": "execute_result"
    }
   ],
   "source": [
    "# list of words\n",
    "words = getWordsFromText()\n",
    "words[:3]"
   ]
  },
  {
   "cell_type": "code",
   "execution_count": 20,
   "metadata": {
    "collapsed": false
   },
   "outputs": [
    {
     "data": {
      "text/plain": [
       "2190"
      ]
     },
     "execution_count": 20,
     "metadata": {},
     "output_type": "execute_result"
    }
   ],
   "source": [
    "# how many words in the article.\n",
    "len(words)"
   ]
  },
  {
   "cell_type": "markdown",
   "metadata": {},
   "source": [
    "#### ./word_count/tasks.py , which contains  mapper function:\n",
    "    from celery import group\n",
    "    from word_count.celery import app \n",
    "    \n",
    "    @app.task\n",
    "    def mapper(word):\n",
    "        return (word, 1) if len(word) >= 5 else None    # discard words which are too short."
   ]
  },
  {
   "cell_type": "markdown",
   "metadata": {},
   "source": [
    "### Send messages to Celery workers, computing in parallel."
   ]
  },
  {
   "cell_type": "code",
   "execution_count": 21,
   "metadata": {
    "collapsed": false
   },
   "outputs": [
    {
     "name": "stdout",
     "output_type": "stream",
     "text": [
      "Wall time: 3min 23s\n"
     ]
    },
    {
     "data": {
      "text/plain": [
       "[('would', 12), ('which', 8), ('their', 8), ('caught', 6), ('Farmer', 6)]"
      ]
     },
     "execution_count": 21,
     "metadata": {},
     "output_type": "execute_result"
    }
   ],
   "source": [
    "def count_celery(words):\n",
    "    \n",
    "    # send messages to Celery workers.\n",
    "    asyncResults = [mapper.s(word).delay() for word in words]  # mapper function is defined in ./word_count/tasks.py\n",
    "    results = [asyncResult.get() for asyncResult in asyncResults if asyncResult.get() is not None]\n",
    "\n",
    "    return reduce(results)  \n",
    "\n",
    "%time counts = count_celery(words)\n",
    "counts[:5]"
   ]
  },
  {
   "cell_type": "markdown",
   "metadata": {},
   "source": [
    "#### As messages sent，Flower shows the status.\n",
    "![](./jpgs/flower4.jpg)  \n",
    "\n",
    "#### Finished.\n",
    "![](./jpgs/flower5.jpg)\n",
    "\n",
    "#### Showing CPUs' load during the processing.\n",
    "![](./jpgs/htop1.jpg)"
   ]
  },
  {
   "cell_type": "markdown",
   "metadata": {},
   "source": [
    "## Summary:\n",
    " With respect to Hadoop ecosystem, we can actually build a parallel-computing cluster in minutes with Celery and Docker-Swarm. This practice could be used as a handy tool in some circumstances."
   ]
  }
 ],
 "metadata": {
  "kernelspec": {
   "display_name": "Python 3",
   "language": "python",
   "name": "python3"
  },
  "language_info": {
   "codemirror_mode": {
    "name": "ipython",
    "version": 3
   },
   "file_extension": ".py",
   "mimetype": "text/x-python",
   "name": "python",
   "nbconvert_exporter": "python",
   "pygments_lexer": "ipython3",
   "version": "3.5.1"
  }
 },
 "nbformat": 4,
 "nbformat_minor": 0
}
