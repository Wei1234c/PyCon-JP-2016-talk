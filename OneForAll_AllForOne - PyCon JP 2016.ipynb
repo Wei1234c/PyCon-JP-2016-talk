{
 "cells": [
  {
   "cell_type": "markdown",
   "metadata": {},
   "source": [
    "# [One for all, All for one](https://www.youtube.com/watch?v=FcMCd520Ae8)\n",
    "### [SETI@home](https://en.wikipedia.org/wiki/SETI@home) liked [Volunteer Computing](https://en.wikipedia.org/wiki/Volunteer_computing) on Mixed-Platforms Cluster - using Celery and Docker\n",
    "\n",
    "Wei Lin  \n",
    "20160512  "
   ]
  },
  {
   "cell_type": "markdown",
   "metadata": {},
   "source": [
    "## Experiment procedure:"
   ]
  },
  {
   "cell_type": "markdown",
   "metadata": {},
   "source": [
    "### Define Dockerfile for RPi: \n",
    "Celery Worker Dockerfile for ARM v7  \n",
    "image name: wei1234c/one_for_all_all_for_one_armv7 "
   ]
  },
  {
   "cell_type": "code",
   "execution_count": null,
   "metadata": {
    "collapsed": true
   },
   "outputs": [],
   "source": [
    "# one_for_all_all_for_one_armv7\n",
    "# Celery Worker Dockerfile\n",
    "# for ARM v7\n",
    "# 20160512\n",
    " \n",
    "FROM wei1234c/celery_armv7\n",
    "\n",
    "MAINTAINER Wei Lin\n",
    "\n",
    "USER root\n",
    "\n",
    "RUN\tmkdir /celery_projects\n",
    "\n",
    "WORKDIR /celery_projects\n",
    "\n",
    "COPY . /celery_projects/\n",
    " \n",
    "RUN\tchmod +x /celery_projects/start_workers.sh\n",
    "\n",
    "USER pi\n",
    "\n",
    "CMD [\"/bin/sh\", \"/celery_projects/start_workers.sh\"]"
   ]
  },
  {
   "cell_type": "markdown",
   "metadata": {},
   "source": [
    "### Build Docker image for RPi: \n",
    "image name: wei1234c/one_for_all_all_for_one_armv7"
   ]
  },
  {
   "cell_type": "code",
   "execution_count": null,
   "metadata": {
    "collapsed": true
   },
   "outputs": [],
   "source": [
    "HypriotOS: pi@rpi202 in ~\n",
    "$ docker build -t wei1234c/one_for_all_all_for_one_armv7 /dockerfiles/ARMv7/one_for_all_all_for_one\n",
    "Sending build context to Docker daemon 9.216 kB\n",
    "Step 1 : FROM wei1234c/celery_armv7\n",
    " ---> 8939b7e5c928\n",
    "Step 2 : MAINTAINER Wei Lin\n",
    " ---> Using cache\n",
    " ---> 186c6ea155e8\n",
    "Step 3 : USER root\n",
    " ---> Using cache\n",
    " ---> b84c84193d65\n",
    "Step 4 : RUN mkdir /celery_projects\n",
    " ---> Using cache\n",
    " ---> fff839303a93\n",
    "Step 5 : WORKDIR /celery_projects\n",
    " ---> Using cache\n",
    " ---> 27938d9d6ae8\n",
    "Step 6 : COPY . /celery_projects/\n",
    " ---> c120021c8dc0\n",
    "Removing intermediate container 5b4421e5472b\n",
    "Step 7 : RUN chmod +x /celery_projects/start_workers.sh\n",
    " ---> Running in f719c550c90d\n",
    " ---> efa549c140dd\n",
    "Removing intermediate container f719c550c90d\n",
    "Step 8 : USER pi\n",
    " ---> Running in 1c7a5587769b\n",
    " ---> 427f37517ba9\n",
    "Removing intermediate container 1c7a5587769b\n",
    "Step 9 : CMD /bin/sh /celery_projects/start_workers.sh\n",
    " ---> Running in ed24629cb0ba\n",
    " ---> d7bb6603b6c6\n",
    "Removing intermediate container ed24629cb0ba\n",
    "Successfully built d7bb6603b6c6\n",
    "HypriotOS: pi@rpi202 in ~\n",
    "$ "
   ]
  },
  {
   "cell_type": "markdown",
   "metadata": {},
   "source": [
    "### Define Dockerfile for amd64: \n",
    "Celery Worker Dockerfile for amd64  \n",
    "image name: wei1234c/one_for_all_all_for_one"
   ]
  },
  {
   "cell_type": "code",
   "execution_count": null,
   "metadata": {
    "collapsed": true
   },
   "outputs": [],
   "source": [
    "# one_for_all_all_for_one\n",
    "# Celery Worker Dockerfile\n",
    "# for amd64\n",
    "# 20160512\n",
    " \n",
    "FROM ubuntu\n",
    "\n",
    "MAINTAINER Wei Lin\n",
    "\n",
    "USER root\n",
    "\n",
    "# Add user pi\n",
    "RUN \\\n",
    "\tuseradd -G adm,sudo,users -s /bin/bash -m pi && \\\n",
    "\techo 'pi:raspberry' | chpasswd\n",
    "\n",
    "\n",
    "#RUN pip3 install pandas\n",
    "\n",
    "# Install Python. ____________________________________________________________________________________________\n",
    "RUN apt-get update && \\\n",
    "    apt-get install -y python3 python3-pip python3-dev python3-numpy python3-scipy python3-matplotlib python3-pandas && \\\n",
    "    apt-get install -y python python-pip python-dev\n",
    "\n",
    "# Install Celery  ____________________________________________________________________________________________\n",
    "RUN \\\n",
    "\tpip3 install -U celery\n",
    "\n",
    "RUN \\\n",
    "\tpip3 install -U redis\n",
    "\n",
    "RUN\tmkdir /celery_projects\n",
    "\t\n",
    "WORKDIR /celery_projects\n",
    "\n",
    "COPY . /celery_projects/\n",
    " \n",
    "RUN\tchmod +x /celery_projects/start_workers.sh\n",
    "\n",
    "USER pi\n",
    "\n",
    "CMD [\"/bin/sh\", \"/celery_projects/start_workers.sh\"]"
   ]
  },
  {
   "cell_type": "markdown",
   "metadata": {},
   "source": [
    "### Build Docker image for amd64: \n",
    "image name: wei1234c/one_for_all_all_for_one"
   ]
  },
  {
   "cell_type": "code",
   "execution_count": null,
   "metadata": {
    "collapsed": true
   },
   "outputs": [],
   "source": [
    "wei@Wei-Lenovo:~$ docker build -t wei1234c/one_for_all_all_for_one /docker/dockerfiles/amd64/one_for_all_all_for_one\n",
    "Sending build context to Docker daemon 9.728 kB\n",
    "Step 1 : FROM ubuntu\n",
    " ---> c5f1cf30c96b\n",
    "Step 2 : MAINTAINER Wei Lin\n",
    " ---> Using cache\n",
    " ---> 626cc4694d46\n",
    "Step 3 : USER root\n",
    " ---> Using cache\n",
    " ---> 9212cedf802b\n",
    "Step 4 : RUN useradd -G adm,sudo,users -s /bin/bash -m pi &&    echo 'pi:raspberry' | chpasswd\n",
    " ---> Using cache\n",
    " ---> a237ec2f3a84\n",
    "Step 5 : RUN apt-get update &&     apt-get install -y python3 python3-pip python3-dev python3-numpy python3-scipy python3-matplotlib python3-pandas &&     apt-get install -y python python-pip python-dev\n",
    " ---> Using cache\n",
    " ---> f65b7e004075\n",
    "Step 6 : RUN pip3 install -U celery\n",
    " ---> Using cache\n",
    " ---> 3764134da5f1\n",
    "Step 7 : RUN pip3 install -U redis\n",
    " ---> Using cache\n",
    " ---> 61772207fc08\n",
    "Step 8 : RUN mkdir /celery_projects\n",
    " ---> Using cache\n",
    " ---> c68f9dc73b5c\n",
    "Step 9 : WORKDIR /celery_projects\n",
    " ---> Using cache\n",
    " ---> b9e490c48b98\n",
    "Step 10 : COPY . /celery_projects/\n",
    " ---> Using cache\n",
    " ---> 55e921f0a082\n",
    "Step 11 : RUN chmod +x /celery_projects/start_workers.sh\n",
    " ---> Using cache\n",
    " ---> 194e82a97639\n",
    "Step 12 : USER pi\n",
    " ---> Using cache\n",
    " ---> 740675730169\n",
    "Step 13 : CMD /bin/sh /celery_projects/start_workers.sh\n",
    " ---> Using cache\n",
    " ---> d77e8341bf85\n",
    "Successfully built d77e8341bf85\n",
    "wei@Wei-Lenovo:~$"
   ]
  },
  {
   "cell_type": "markdown",
   "metadata": {},
   "source": [
    "### Run container for Celery Broker, using Redis"
   ]
  },
  {
   "cell_type": "code",
   "execution_count": null,
   "metadata": {
    "collapsed": true
   },
   "outputs": [],
   "source": [
    "HypriotOS: pi@rpi202 in ~\n",
    "$ docker run -d -p 6379:6379 --name=redis --volume=/data:/data hypriot/rpi-redis\n",
    "2ee100973b0e1317e7511de0c97b2a29ad02a688f9928c14f347922a4aa3fb5d\n",
    "\n",
    "HypriotOS: pi@rpi202 in ~\n",
    "$ docker ps\n",
    "CONTAINER ID        IMAGE               COMMAND                  CREATED             STATUS              PORTS                    NAMES\n",
    "2ee100973b0e        hypriot/rpi-redis   \"/entrypoint.sh redis\"   8 seconds ago       Up 7 seconds        0.0.0.0:6379->6379/tcp   redis\n",
    "HypriotOS: pi@rpi202 in ~\n",
    "$"
   ]
  },
  {
   "cell_type": "markdown",
   "metadata": {},
   "source": [
    "### Run [Flower](http://docs.celeryproject.org/en/latest/userguide/monitoring.html#flower-real-time-celery-web-monitor) container for monitoring"
   ]
  },
  {
   "cell_type": "code",
   "execution_count": null,
   "metadata": {
    "collapsed": true
   },
   "outputs": [],
   "source": [
    "HypriotOS: pi@rpi202 in ~\n",
    "$ docker run -d -p 5555:5555 --name=flower wei1234c/one_for_all_all_for_one_armv7 /bin/sh -c \"cd /celery_projects && celery -A stock flower\"\n",
    "3c6e9e85417b536d07562575711e5f288097ed48d6f12c0129155d01ea746e66\n",
    "\n",
    "HypriotOS: pi@rpi202 in ~\n",
    "$ docker ps\n",
    "CONTAINER ID        IMAGE                                    COMMAND                  CREATED             STATUS              PORTS                    NAMES\n",
    "3c6e9e85417b        wei1234c/one_for_all_all_for_one_armv7   \"/bin/sh -c 'cd /cele\"   9 seconds ago       Up 7 seconds        0.0.0.0:5555->5555/tcp   flower\n",
    "2ee100973b0e        hypriot/rpi-redis                        \"/entrypoint.sh redis\"   2 hours ago         Up 2 hours          0.0.0.0:6379->6379/tcp   redis\n",
    "HypriotOS: pi@rpi202 in ~\n",
    "$"
   ]
  },
  {
   "cell_type": "markdown",
   "metadata": {},
   "source": [
    "### No worker running, nothing shows in Flower."
   ]
  },
  {
   "cell_type": "markdown",
   "metadata": {},
   "source": [
    "![](./jpgs/musketeer/flower2.jpg)"
   ]
  },
  {
   "cell_type": "markdown",
   "metadata": {},
   "source": [
    "### Run Celery worker container on Raspberry Pi\n",
    "### <font color='red'>Volunteer can join the cluster for distributed parallel computing, simply by running this Docker image.</font>"
   ]
  },
  {
   "cell_type": "code",
   "execution_count": null,
   "metadata": {
    "collapsed": true
   },
   "outputs": [],
   "source": [
    "HypriotOS: pi@rpi202 in ~\n",
    "$ docker run -d --name=musketeer1 wei1234c/one_for_all_all_for_one_armv7\n",
    "5286a81ba451b8473ef2b5e3bb965a7b0fc31511e1ed4e368659aece2478e053\n",
    "\n",
    "HypriotOS: pi@rpi202 in ~\n",
    "$ docker ps\n",
    "CONTAINER ID        IMAGE                                    COMMAND                  CREATED             STATUS              PORTS                    NAMES\n",
    "5286a81ba451        wei1234c/one_for_all_all_for_one_armv7   \"/bin/sh /celery_proj\"   4 seconds ago       Up 3 seconds        5555/tcp                 musketeer1\n",
    "3c6e9e85417b        wei1234c/one_for_all_all_for_one_armv7   \"/bin/sh -c 'cd /cele\"   5 minutes ago       Up 5 minutes        0.0.0.0:5555->5555/tcp   flower\n",
    "2ee100973b0e        hypriot/rpi-redis                        \"/entrypoint.sh redis\"   2 hours ago         Up 2 hours          0.0.0.0:6379->6379/tcp   redis\n",
    "HypriotOS: pi@rpi202 in ~\n",
    "$"
   ]
  },
  {
   "cell_type": "markdown",
   "metadata": {},
   "source": [
    "### After Celery worker container started, it showed up in Flower.  However, no task message was received yet."
   ]
  },
  {
   "cell_type": "markdown",
   "metadata": {},
   "source": [
    "![](./jpgs/musketeer/flower3.jpg)"
   ]
  },
  {
   "cell_type": "markdown",
   "metadata": {},
   "source": [
    "### In package \"stock\" there is a file \"tasks.py\", containing function \"get_table\" with which we define task message."
   ]
  },
  {
   "cell_type": "code",
   "execution_count": null,
   "metadata": {
    "collapsed": false
   },
   "outputs": [],
   "source": [
    "from stock.celery import app\n",
    "\n",
    "import pandas as pd\n",
    "from datetime import datetime\n",
    "\n",
    "\n",
    "def get_url(stock_id, year = datetime.today().year, month = datetime.today().month):\n",
    "    return 'http://www.twse.com.tw/ch/trading/exchange/STOCK_DAY/genpage/Report{year}{month:02}/{year}{month:02}_F3_1_8_{stock_id}.php?STK_NO={stock_id}&myear={year}&mmon={month:02}'.format(stock_id = stock_id, year = year, month = month)\n",
    "\n",
    "\n",
    "@app.task\n",
    "def get_table(stock_id, year = datetime.today().year, month = datetime.today().month):\n",
    "    \n",
    "    url = get_url(stock_id, year, month) \n",
    "    targetTableIndex = 0\n",
    "    \n",
    "    table = pd.read_html(url,\n",
    "                         attrs = {'border': '0' , \n",
    "                                  'width': '598', \n",
    "                                  'align': 'center', \n",
    "                                  'cellpadding': '0', \n",
    "                                  'cellspacing': '1', \n",
    "                                  'class': 'board_trad'},\n",
    "                         header = 1\n",
    "                        )[targetTableIndex]\n",
    "    \n",
    "    table['stock_id'] = stock_id\n",
    "    table = table.reindex(columns = ['stock_id', 'date', 'quantity', 'amount', 'open', 'highest', 'lowest', 'close', 'offset', 'trades'])\n",
    "    \n",
    "    return table.tail(1).values"
   ]
  },
  {
   "cell_type": "code",
   "execution_count": 14,
   "metadata": {
    "collapsed": true
   },
   "outputs": [],
   "source": [
    "# load stock.tasks, which contains the definition of function \"get_table\".\n",
    "from stock.tasks import * \n",
    "import numpy as np"
   ]
  },
  {
   "cell_type": "code",
   "execution_count": 7,
   "metadata": {
    "collapsed": false
   },
   "outputs": [
    {
     "data": {
      "text/plain": [
       "array([[2356, '105/05/12', 5614182, 114086911, 20.2, 20.55, 20.1, 20.3,\n",
       "        -0.1, 3159]], dtype=object)"
      ]
     },
     "execution_count": 7,
     "metadata": {},
     "output_type": "execute_result"
    }
   ],
   "source": [
    "# Excute get_table funtion directly from local host (OS: Windows 7)\n",
    "# No task message was sent to Celery broker\n",
    "get_table(2356)"
   ]
  },
  {
   "cell_type": "markdown",
   "metadata": {},
   "source": [
    "### Asynchronous function call\n",
    "**<font color='red'>In IPython Notebook on local host, we sent a task message to Celery cluster, demanding computing service.  \n",
    "There is no Docker mechanism on local host (OS: Windows 7).</font>**   \n",
    "With \"get_table.apply_async()\" a task message will be sent to Celery Broker.  \n",
    "Celery Broker will put the task message into a queue.  \n",
    "Worker on Raspberry Pi will pick up the message from queue and excute it, and return the result."
   ]
  },
  {
   "cell_type": "code",
   "execution_count": 8,
   "metadata": {
    "collapsed": false
   },
   "outputs": [
    {
     "data": {
      "text/plain": [
       "array([[2356, '105/05/12', 5614182, 114086911, 20.2, 20.55, 20.1, 20.3,\n",
       "        -0.1, 3159]], dtype=object)"
      ]
     },
     "execution_count": 8,
     "metadata": {},
     "output_type": "execute_result"
    }
   ],
   "source": [
    "r = get_table.apply_async(args = [2356])\n",
    "r.get()"
   ]
  },
  {
   "cell_type": "markdown",
   "metadata": {},
   "source": [
    "### Soon after we sent a task message to Celery broker, it shows in Flower that there is a task processed successfully."
   ]
  },
  {
   "cell_type": "markdown",
   "metadata": {},
   "source": [
    "![](./jpgs/musketeer/flower4.jpg)"
   ]
  },
  {
   "cell_type": "markdown",
   "metadata": {},
   "source": [
    "### In Raspberry Pi, we run another Celery worker container."
   ]
  },
  {
   "cell_type": "code",
   "execution_count": null,
   "metadata": {
    "collapsed": true
   },
   "outputs": [],
   "source": [
    "HypriotOS: pi@rpi202 in ~\n",
    "$ docker run -d --name=musketeer2 wei1234c/one_for_all_all_for_one_armv7\n",
    "b47a17508557cd48bbb21d48d7ad6b652e492058cf209d1c920a28db361e3568\n",
    "\n",
    "HypriotOS: pi@rpi202 in ~\n",
    "$ docker ps\n",
    "CONTAINER ID        IMAGE                                    COMMAND                  CREATED             STATUS              PORTS                    NAMES\n",
    "b47a17508557        wei1234c/one_for_all_all_for_one_armv7   \"/bin/sh /celery_proj\"   4 seconds ago       Up 3 seconds        5555/tcp                 musketeer2\n",
    "5286a81ba451        wei1234c/one_for_all_all_for_one_armv7   \"/bin/sh /celery_proj\"   21 minutes ago      Up 21 minutes       5555/tcp                 musketeer1\n",
    "3c6e9e85417b        wei1234c/one_for_all_all_for_one_armv7   \"/bin/sh -c 'cd /cele\"   26 minutes ago      Up 26 minutes       0.0.0.0:5555->5555/tcp   flower\n",
    "2ee100973b0e        hypriot/rpi-redis                        \"/entrypoint.sh redis\"   3 hours ago         Up 3 hours          0.0.0.0:6379->6379/tcp   redis\n",
    "HypriotOS: pi@rpi202 in ~\n",
    "$"
   ]
  },
  {
   "cell_type": "markdown",
   "metadata": {},
   "source": [
    "### We can see in Flower that we have two workers running now."
   ]
  },
  {
   "cell_type": "markdown",
   "metadata": {},
   "source": [
    "![](./jpgs/musketeer/flower5.jpg)"
   ]
  },
  {
   "cell_type": "markdown",
   "metadata": {},
   "source": [
    "### On an AMD64 machine, we run two Celery worker containers."
   ]
  },
  {
   "cell_type": "code",
   "execution_count": null,
   "metadata": {
    "collapsed": true
   },
   "outputs": [],
   "source": [
    "wei@Wei-Lenovo:~$ docker run -d --name=musketeer3 wei1234c/one_for_all_all_for_one\n",
    "65b6d885fb5bf06f10517c79325d19639446d939a0b2395aada323674e2eb121\n",
    "\n",
    "wei@Wei-Lenovo:~$ docker run -d --name=musketeer4 wei1234c/one_for_all_all_for_one\n",
    "d71f611c0ae6123f5139f02b1a5a5936f162259271061e7c256cc06d9b9d2511\n",
    "\n",
    "wei@Wei-Lenovo:~$ docker ps\n",
    "CONTAINER ID        IMAGE                              COMMAND                  CREATED              STATUS              PORTS               NAMES\n",
    "d71f611c0ae6        wei1234c/one_for_all_all_for_one   \"/bin/sh /celery_proj\"   6 seconds ago        Up 3 seconds                            musketeer4\n",
    "65b6d885fb5b        wei1234c/one_for_all_all_for_one   \"/bin/sh /celery_proj\"   About a minute ago   Up About a minute                       musketeer3\n",
    "wei@Wei-Lenovo:~$"
   ]
  },
  {
   "cell_type": "markdown",
   "metadata": {},
   "source": [
    "### Now in Flower, we can see four workers - two workers on Raspberry Pi, and another two workers on the AMD64 machine."
   ]
  },
  {
   "cell_type": "markdown",
   "metadata": {},
   "source": [
    "![](./jpgs/musketeer/flower6.jpg)"
   ]
  },
  {
   "cell_type": "code",
   "execution_count": 29,
   "metadata": {
    "collapsed": false
   },
   "outputs": [],
   "source": [
    "# The stock id list, about wich we will collect data.\n",
    "stocks = [1101, 1102, 1103, 1104, 1108, 1109, 1110, 1201, 1203, 1210, 1213, 1215, 1216, 1217, 1218, 1219, 1220,\n",
    "          1225, 1227, 1229, 1231, 1232, 1233, 1234, 1235, 1236, 1256, 1702, 1737, 1301]"
   ]
  },
  {
   "cell_type": "code",
   "execution_count": 30,
   "metadata": {
    "collapsed": true
   },
   "outputs": [],
   "source": [
    "from pandas import DataFrame\n",
    "\n",
    "# collect data into a Pandas.DataFrame\n",
    "def reduce(results):\n",
    "    data = []\n",
    "    for result in results: data.append(result[0])\n",
    "        \n",
    "    table = DataFrame(list(data), \n",
    "                      columns = ['stock_id', 'date', 'quantity', 'amount', 'open', 'highest', 'lowest', 'close', 'offset', 'trades'])\n",
    "\n",
    "    return table     "
   ]
  },
  {
   "cell_type": "code",
   "execution_count": 31,
   "metadata": {
    "collapsed": false
   },
   "outputs": [
    {
     "name": "stdout",
     "output_type": "stream",
     "text": [
      "Wall time: 19.2 s\n"
     ]
    },
    {
     "data": {
      "text/html": [
       "<div>\n",
       "<table border=\"1\" class=\"dataframe\">\n",
       "  <thead>\n",
       "    <tr style=\"text-align: right;\">\n",
       "      <th></th>\n",
       "      <th>stock_id</th>\n",
       "      <th>date</th>\n",
       "      <th>quantity</th>\n",
       "      <th>amount</th>\n",
       "      <th>open</th>\n",
       "      <th>highest</th>\n",
       "      <th>lowest</th>\n",
       "      <th>close</th>\n",
       "      <th>offset</th>\n",
       "      <th>trades</th>\n",
       "    </tr>\n",
       "  </thead>\n",
       "  <tbody>\n",
       "    <tr>\n",
       "      <th>0</th>\n",
       "      <td>1101</td>\n",
       "      <td>105/05/12</td>\n",
       "      <td>3242925</td>\n",
       "      <td>96161650</td>\n",
       "      <td>29.50</td>\n",
       "      <td>29.80</td>\n",
       "      <td>29.45</td>\n",
       "      <td>29.70</td>\n",
       "      <td>0.05</td>\n",
       "      <td>2064</td>\n",
       "    </tr>\n",
       "    <tr>\n",
       "      <th>1</th>\n",
       "      <td>1102</td>\n",
       "      <td>105/05/12</td>\n",
       "      <td>3094327</td>\n",
       "      <td>80204709</td>\n",
       "      <td>25.60</td>\n",
       "      <td>26.30</td>\n",
       "      <td>25.55</td>\n",
       "      <td>26.00</td>\n",
       "      <td>0.40</td>\n",
       "      <td>2046</td>\n",
       "    </tr>\n",
       "    <tr>\n",
       "      <th>2</th>\n",
       "      <td>1103</td>\n",
       "      <td>105/05/12</td>\n",
       "      <td>56511</td>\n",
       "      <td>492804</td>\n",
       "      <td>8.78</td>\n",
       "      <td>8.78</td>\n",
       "      <td>8.70</td>\n",
       "      <td>8.74</td>\n",
       "      <td>-0.04</td>\n",
       "      <td>32</td>\n",
       "    </tr>\n",
       "    <tr>\n",
       "      <th>3</th>\n",
       "      <td>1104</td>\n",
       "      <td>105/05/12</td>\n",
       "      <td>138794</td>\n",
       "      <td>2766347</td>\n",
       "      <td>20.15</td>\n",
       "      <td>20.15</td>\n",
       "      <td>19.85</td>\n",
       "      <td>20.00</td>\n",
       "      <td>-0.15</td>\n",
       "      <td>85</td>\n",
       "    </tr>\n",
       "    <tr>\n",
       "      <th>4</th>\n",
       "      <td>1108</td>\n",
       "      <td>105/05/12</td>\n",
       "      <td>85995</td>\n",
       "      <td>865446</td>\n",
       "      <td>10.05</td>\n",
       "      <td>10.10</td>\n",
       "      <td>10.00</td>\n",
       "      <td>10.05</td>\n",
       "      <td>0.00</td>\n",
       "      <td>43</td>\n",
       "    </tr>\n",
       "  </tbody>\n",
       "</table>\n",
       "</div>"
      ],
      "text/plain": [
       "   stock_id         date     quantity      amount    open    highest    lowest    close  offset  trades\n",
       "0  1101  105/05/12  3242925  96161650  29.50  29.80  29.45  29.70  0.05  2064\n",
       "1  1102  105/05/12  3094327  80204709  25.60  26.30  25.55  26.00  0.40  2046\n",
       "2  1103  105/05/12    56511    492804   8.78   8.78   8.70   8.74 -0.04    32\n",
       "3  1104  105/05/12   138794   2766347  20.15  20.15  19.85  20.00 -0.15    85\n",
       "4  1108  105/05/12    85995    865446  10.05  10.10  10.00  10.05  0.00    43"
      ]
     },
     "execution_count": 31,
     "metadata": {},
     "output_type": "execute_result"
    }
   ],
   "source": [
    "def get_stock_prices(stocks):\n",
    "    \n",
    "    # send task messages to Celery broker\n",
    "    asyncResults = [get_table.apply_async(args = [stock]) for stock in stocks] \n",
    "    \n",
    "    # get results from AsyncResults into a list\n",
    "    results = [asyncResult.get() for asyncResult in asyncResults if asyncResult.get() is not None]\n",
    "\n",
    "    return reduce(results)  \n",
    "\n",
    "%time prices = get_stock_prices(stocks)\n",
    "prices[:5]"
   ]
  },
  {
   "cell_type": "code",
   "execution_count": 32,
   "metadata": {
    "collapsed": false
   },
   "outputs": [
    {
     "data": {
      "text/html": [
       "<div>\n",
       "<table border=\"1\" class=\"dataframe\">\n",
       "  <thead>\n",
       "    <tr style=\"text-align: right;\">\n",
       "      <th></th>\n",
       "      <th>stock_id</th>\n",
       "      <th>date</th>\n",
       "      <th>quantity</th>\n",
       "      <th>amount</th>\n",
       "      <th>open</th>\n",
       "      <th>highest</th>\n",
       "      <th>lowest</th>\n",
       "      <th>close</th>\n",
       "      <th>offset</th>\n",
       "      <th>trades</th>\n",
       "    </tr>\n",
       "  </thead>\n",
       "  <tbody>\n",
       "    <tr>\n",
       "      <th>0</th>\n",
       "      <td>1101</td>\n",
       "      <td>105/05/12</td>\n",
       "      <td>3242925</td>\n",
       "      <td>96161650</td>\n",
       "      <td>29.50</td>\n",
       "      <td>29.80</td>\n",
       "      <td>29.45</td>\n",
       "      <td>29.70</td>\n",
       "      <td>0.05</td>\n",
       "      <td>2064</td>\n",
       "    </tr>\n",
       "    <tr>\n",
       "      <th>1</th>\n",
       "      <td>1102</td>\n",
       "      <td>105/05/12</td>\n",
       "      <td>3094327</td>\n",
       "      <td>80204709</td>\n",
       "      <td>25.60</td>\n",
       "      <td>26.30</td>\n",
       "      <td>25.55</td>\n",
       "      <td>26.00</td>\n",
       "      <td>0.40</td>\n",
       "      <td>2046</td>\n",
       "    </tr>\n",
       "    <tr>\n",
       "      <th>2</th>\n",
       "      <td>1103</td>\n",
       "      <td>105/05/12</td>\n",
       "      <td>56511</td>\n",
       "      <td>492804</td>\n",
       "      <td>8.78</td>\n",
       "      <td>8.78</td>\n",
       "      <td>8.70</td>\n",
       "      <td>8.74</td>\n",
       "      <td>-0.04</td>\n",
       "      <td>32</td>\n",
       "    </tr>\n",
       "    <tr>\n",
       "      <th>3</th>\n",
       "      <td>1104</td>\n",
       "      <td>105/05/12</td>\n",
       "      <td>138794</td>\n",
       "      <td>2766347</td>\n",
       "      <td>20.15</td>\n",
       "      <td>20.15</td>\n",
       "      <td>19.85</td>\n",
       "      <td>20.00</td>\n",
       "      <td>-0.15</td>\n",
       "      <td>85</td>\n",
       "    </tr>\n",
       "    <tr>\n",
       "      <th>4</th>\n",
       "      <td>1108</td>\n",
       "      <td>105/05/12</td>\n",
       "      <td>85995</td>\n",
       "      <td>865446</td>\n",
       "      <td>10.05</td>\n",
       "      <td>10.10</td>\n",
       "      <td>10.00</td>\n",
       "      <td>10.05</td>\n",
       "      <td>0.00</td>\n",
       "      <td>43</td>\n",
       "    </tr>\n",
       "    <tr>\n",
       "      <th>5</th>\n",
       "      <td>1109</td>\n",
       "      <td>105/05/12</td>\n",
       "      <td>4000</td>\n",
       "      <td>40050</td>\n",
       "      <td>10.05</td>\n",
       "      <td>10.05</td>\n",
       "      <td>10.00</td>\n",
       "      <td>10.00</td>\n",
       "      <td>0.00</td>\n",
       "      <td>4</td>\n",
       "    </tr>\n",
       "    <tr>\n",
       "      <th>6</th>\n",
       "      <td>1110</td>\n",
       "      <td>105/05/12</td>\n",
       "      <td>31000</td>\n",
       "      <td>445500</td>\n",
       "      <td>14.20</td>\n",
       "      <td>14.45</td>\n",
       "      <td>14.20</td>\n",
       "      <td>14.45</td>\n",
       "      <td>0.00</td>\n",
       "      <td>13</td>\n",
       "    </tr>\n",
       "    <tr>\n",
       "      <th>7</th>\n",
       "      <td>1201</td>\n",
       "      <td>105/05/12</td>\n",
       "      <td>1015742</td>\n",
       "      <td>19595770</td>\n",
       "      <td>19.65</td>\n",
       "      <td>19.70</td>\n",
       "      <td>19.00</td>\n",
       "      <td>19.10</td>\n",
       "      <td>-0.60</td>\n",
       "      <td>384</td>\n",
       "    </tr>\n",
       "    <tr>\n",
       "      <th>8</th>\n",
       "      <td>1203</td>\n",
       "      <td>105/05/12</td>\n",
       "      <td>12004</td>\n",
       "      <td>257184</td>\n",
       "      <td>21.55</td>\n",
       "      <td>21.55</td>\n",
       "      <td>21.40</td>\n",
       "      <td>21.40</td>\n",
       "      <td>-0.30</td>\n",
       "      <td>11</td>\n",
       "    </tr>\n",
       "    <tr>\n",
       "      <th>9</th>\n",
       "      <td>1210</td>\n",
       "      <td>105/05/12</td>\n",
       "      <td>4576158</td>\n",
       "      <td>107022964</td>\n",
       "      <td>23.05</td>\n",
       "      <td>23.75</td>\n",
       "      <td>23.00</td>\n",
       "      <td>23.40</td>\n",
       "      <td>0.50</td>\n",
       "      <td>1946</td>\n",
       "    </tr>\n",
       "    <tr>\n",
       "      <th>10</th>\n",
       "      <td>1213</td>\n",
       "      <td>105/05/12</td>\n",
       "      <td>26010</td>\n",
       "      <td>447070</td>\n",
       "      <td>17.30</td>\n",
       "      <td>17.30</td>\n",
       "      <td>17.15</td>\n",
       "      <td>17.15</td>\n",
       "      <td>-0.10</td>\n",
       "      <td>21</td>\n",
       "    </tr>\n",
       "    <tr>\n",
       "      <th>11</th>\n",
       "      <td>1215</td>\n",
       "      <td>105/05/12</td>\n",
       "      <td>4658698</td>\n",
       "      <td>135637699</td>\n",
       "      <td>28.65</td>\n",
       "      <td>29.40</td>\n",
       "      <td>28.65</td>\n",
       "      <td>28.95</td>\n",
       "      <td>0.25</td>\n",
       "      <td>1992</td>\n",
       "    </tr>\n",
       "    <tr>\n",
       "      <th>12</th>\n",
       "      <td>1216</td>\n",
       "      <td>105/05/12</td>\n",
       "      <td>5823532</td>\n",
       "      <td>337920756</td>\n",
       "      <td>57.30</td>\n",
       "      <td>58.50</td>\n",
       "      <td>57.30</td>\n",
       "      <td>58.40</td>\n",
       "      <td>1.10</td>\n",
       "      <td>2945</td>\n",
       "    </tr>\n",
       "    <tr>\n",
       "      <th>13</th>\n",
       "      <td>1217</td>\n",
       "      <td>105/05/12</td>\n",
       "      <td>430450</td>\n",
       "      <td>3402141</td>\n",
       "      <td>7.85</td>\n",
       "      <td>8.00</td>\n",
       "      <td>7.81</td>\n",
       "      <td>7.85</td>\n",
       "      <td>0.00</td>\n",
       "      <td>173</td>\n",
       "    </tr>\n",
       "    <tr>\n",
       "      <th>14</th>\n",
       "      <td>1218</td>\n",
       "      <td>105/05/12</td>\n",
       "      <td>268733</td>\n",
       "      <td>3345762</td>\n",
       "      <td>12.45</td>\n",
       "      <td>12.55</td>\n",
       "      <td>12.35</td>\n",
       "      <td>12.40</td>\n",
       "      <td>-0.15</td>\n",
       "      <td>106</td>\n",
       "    </tr>\n",
       "    <tr>\n",
       "      <th>15</th>\n",
       "      <td>1219</td>\n",
       "      <td>105/05/12</td>\n",
       "      <td>37208</td>\n",
       "      <td>562998</td>\n",
       "      <td>15.20</td>\n",
       "      <td>15.20</td>\n",
       "      <td>15.00</td>\n",
       "      <td>15.05</td>\n",
       "      <td>-0.15</td>\n",
       "      <td>17</td>\n",
       "    </tr>\n",
       "    <tr>\n",
       "      <th>16</th>\n",
       "      <td>1220</td>\n",
       "      <td>105/05/12</td>\n",
       "      <td>50000</td>\n",
       "      <td>519600</td>\n",
       "      <td>10.45</td>\n",
       "      <td>10.50</td>\n",
       "      <td>10.30</td>\n",
       "      <td>10.45</td>\n",
       "      <td>0.00</td>\n",
       "      <td>25</td>\n",
       "    </tr>\n",
       "    <tr>\n",
       "      <th>17</th>\n",
       "      <td>1225</td>\n",
       "      <td>105/05/12</td>\n",
       "      <td>55382</td>\n",
       "      <td>1757142</td>\n",
       "      <td>31.65</td>\n",
       "      <td>31.90</td>\n",
       "      <td>31.20</td>\n",
       "      <td>31.20</td>\n",
       "      <td>-0.45</td>\n",
       "      <td>19</td>\n",
       "    </tr>\n",
       "    <tr>\n",
       "      <th>18</th>\n",
       "      <td>1227</td>\n",
       "      <td>105/05/12</td>\n",
       "      <td>511892</td>\n",
       "      <td>39680787</td>\n",
       "      <td>77.50</td>\n",
       "      <td>77.80</td>\n",
       "      <td>77.20</td>\n",
       "      <td>77.60</td>\n",
       "      <td>-0.10</td>\n",
       "      <td>401</td>\n",
       "    </tr>\n",
       "    <tr>\n",
       "      <th>19</th>\n",
       "      <td>1229</td>\n",
       "      <td>105/05/12</td>\n",
       "      <td>354427</td>\n",
       "      <td>7157504</td>\n",
       "      <td>20.40</td>\n",
       "      <td>20.40</td>\n",
       "      <td>20.05</td>\n",
       "      <td>20.10</td>\n",
       "      <td>0.10</td>\n",
       "      <td>183</td>\n",
       "    </tr>\n",
       "    <tr>\n",
       "      <th>20</th>\n",
       "      <td>1231</td>\n",
       "      <td>105/05/12</td>\n",
       "      <td>619161</td>\n",
       "      <td>18610131</td>\n",
       "      <td>29.25</td>\n",
       "      <td>30.55</td>\n",
       "      <td>29.25</td>\n",
       "      <td>30.20</td>\n",
       "      <td>1.05</td>\n",
       "      <td>328</td>\n",
       "    </tr>\n",
       "    <tr>\n",
       "      <th>21</th>\n",
       "      <td>1232</td>\n",
       "      <td>105/05/12</td>\n",
       "      <td>118000</td>\n",
       "      <td>9158100</td>\n",
       "      <td>77.30</td>\n",
       "      <td>77.90</td>\n",
       "      <td>77.30</td>\n",
       "      <td>77.40</td>\n",
       "      <td>0.10</td>\n",
       "      <td>55</td>\n",
       "    </tr>\n",
       "    <tr>\n",
       "      <th>22</th>\n",
       "      <td>1233</td>\n",
       "      <td>105/05/12</td>\n",
       "      <td>62200</td>\n",
       "      <td>2293460</td>\n",
       "      <td>36.80</td>\n",
       "      <td>37.05</td>\n",
       "      <td>36.80</td>\n",
       "      <td>36.85</td>\n",
       "      <td>0.05</td>\n",
       "      <td>32</td>\n",
       "    </tr>\n",
       "    <tr>\n",
       "      <th>23</th>\n",
       "      <td>1234</td>\n",
       "      <td>105/05/12</td>\n",
       "      <td>207595</td>\n",
       "      <td>6888635</td>\n",
       "      <td>33.60</td>\n",
       "      <td>33.60</td>\n",
       "      <td>32.95</td>\n",
       "      <td>32.95</td>\n",
       "      <td>-0.95</td>\n",
       "      <td>107</td>\n",
       "    </tr>\n",
       "    <tr>\n",
       "      <th>24</th>\n",
       "      <td>1235</td>\n",
       "      <td>105/05/12</td>\n",
       "      <td>25160</td>\n",
       "      <td>595842</td>\n",
       "      <td>23.45</td>\n",
       "      <td>23.95</td>\n",
       "      <td>23.30</td>\n",
       "      <td>23.90</td>\n",
       "      <td>0.00</td>\n",
       "      <td>23</td>\n",
       "    </tr>\n",
       "    <tr>\n",
       "      <th>25</th>\n",
       "      <td>1236</td>\n",
       "      <td>105/05/12</td>\n",
       "      <td>18010</td>\n",
       "      <td>361551</td>\n",
       "      <td>20.15</td>\n",
       "      <td>20.15</td>\n",
       "      <td>20.00</td>\n",
       "      <td>20.00</td>\n",
       "      <td>-0.15</td>\n",
       "      <td>16</td>\n",
       "    </tr>\n",
       "    <tr>\n",
       "      <th>26</th>\n",
       "      <td>1256</td>\n",
       "      <td>105/05/12</td>\n",
       "      <td>13150</td>\n",
       "      <td>1573200</td>\n",
       "      <td>120.00</td>\n",
       "      <td>120.00</td>\n",
       "      <td>118.50</td>\n",
       "      <td>118.50</td>\n",
       "      <td>-2.50</td>\n",
       "      <td>13</td>\n",
       "    </tr>\n",
       "    <tr>\n",
       "      <th>27</th>\n",
       "      <td>1702</td>\n",
       "      <td>105/05/12</td>\n",
       "      <td>1020054</td>\n",
       "      <td>63916873</td>\n",
       "      <td>61.70</td>\n",
       "      <td>63.20</td>\n",
       "      <td>61.70</td>\n",
       "      <td>62.60</td>\n",
       "      <td>0.60</td>\n",
       "      <td>601</td>\n",
       "    </tr>\n",
       "    <tr>\n",
       "      <th>28</th>\n",
       "      <td>1737</td>\n",
       "      <td>105/05/12</td>\n",
       "      <td>207912</td>\n",
       "      <td>5610143</td>\n",
       "      <td>27.00</td>\n",
       "      <td>27.10</td>\n",
       "      <td>26.85</td>\n",
       "      <td>26.85</td>\n",
       "      <td>-0.10</td>\n",
       "      <td>97</td>\n",
       "    </tr>\n",
       "    <tr>\n",
       "      <th>29</th>\n",
       "      <td>1301</td>\n",
       "      <td>105/05/12</td>\n",
       "      <td>3896203</td>\n",
       "      <td>300815138</td>\n",
       "      <td>77.00</td>\n",
       "      <td>77.40</td>\n",
       "      <td>76.80</td>\n",
       "      <td>77.10</td>\n",
       "      <td>0.10</td>\n",
       "      <td>2088</td>\n",
       "    </tr>\n",
       "  </tbody>\n",
       "</table>\n",
       "</div>"
      ],
      "text/plain": [
       "    stock_id         date     quantity       amount     open     highest     lowest     close  offset  \\\n",
       "0   1101  105/05/12  3242925   96161650   29.50   29.80   29.45   29.70  0.05   \n",
       "1   1102  105/05/12  3094327   80204709   25.60   26.30   25.55   26.00  0.40   \n",
       "2   1103  105/05/12    56511     492804    8.78    8.78    8.70    8.74 -0.04   \n",
       "3   1104  105/05/12   138794    2766347   20.15   20.15   19.85   20.00 -0.15   \n",
       "4   1108  105/05/12    85995     865446   10.05   10.10   10.00   10.05  0.00   \n",
       "5   1109  105/05/12     4000      40050   10.05   10.05   10.00   10.00  0.00   \n",
       "6   1110  105/05/12    31000     445500   14.20   14.45   14.20   14.45  0.00   \n",
       "7   1201  105/05/12  1015742   19595770   19.65   19.70   19.00   19.10 -0.60   \n",
       "8   1203  105/05/12    12004     257184   21.55   21.55   21.40   21.40 -0.30   \n",
       "9   1210  105/05/12  4576158  107022964   23.05   23.75   23.00   23.40  0.50   \n",
       "10  1213  105/05/12    26010     447070   17.30   17.30   17.15   17.15 -0.10   \n",
       "11  1215  105/05/12  4658698  135637699   28.65   29.40   28.65   28.95  0.25   \n",
       "12  1216  105/05/12  5823532  337920756   57.30   58.50   57.30   58.40  1.10   \n",
       "13  1217  105/05/12   430450    3402141    7.85    8.00    7.81    7.85  0.00   \n",
       "14  1218  105/05/12   268733    3345762   12.45   12.55   12.35   12.40 -0.15   \n",
       "15  1219  105/05/12    37208     562998   15.20   15.20   15.00   15.05 -0.15   \n",
       "16  1220  105/05/12    50000     519600   10.45   10.50   10.30   10.45  0.00   \n",
       "17  1225  105/05/12    55382    1757142   31.65   31.90   31.20   31.20 -0.45   \n",
       "18  1227  105/05/12   511892   39680787   77.50   77.80   77.20   77.60 -0.10   \n",
       "19  1229  105/05/12   354427    7157504   20.40   20.40   20.05   20.10  0.10   \n",
       "20  1231  105/05/12   619161   18610131   29.25   30.55   29.25   30.20  1.05   \n",
       "21  1232  105/05/12   118000    9158100   77.30   77.90   77.30   77.40  0.10   \n",
       "22  1233  105/05/12    62200    2293460   36.80   37.05   36.80   36.85  0.05   \n",
       "23  1234  105/05/12   207595    6888635   33.60   33.60   32.95   32.95 -0.95   \n",
       "24  1235  105/05/12    25160     595842   23.45   23.95   23.30   23.90  0.00   \n",
       "25  1236  105/05/12    18010     361551   20.15   20.15   20.00   20.00 -0.15   \n",
       "26  1256  105/05/12    13150    1573200  120.00  120.00  118.50  118.50 -2.50   \n",
       "27  1702  105/05/12  1020054   63916873   61.70   63.20   61.70   62.60  0.60   \n",
       "28  1737  105/05/12   207912    5610143   27.00   27.10   26.85   26.85 -0.10   \n",
       "29  1301  105/05/12  3896203  300815138   77.00   77.40   76.80   77.10  0.10   \n",
       "\n",
       "    trades  \n",
       "0   2064  \n",
       "1   2046  \n",
       "2     32  \n",
       "3     85  \n",
       "4     43  \n",
       "5      4  \n",
       "6     13  \n",
       "7    384  \n",
       "8     11  \n",
       "9   1946  \n",
       "10    21  \n",
       "11  1992  \n",
       "12  2945  \n",
       "13   173  \n",
       "14   106  \n",
       "15    17  \n",
       "16    25  \n",
       "17    19  \n",
       "18   401  \n",
       "19   183  \n",
       "20   328  \n",
       "21    55  \n",
       "22    32  \n",
       "23   107  \n",
       "24    23  \n",
       "25    16  \n",
       "26    13  \n",
       "27   601  \n",
       "28    97  \n",
       "29  2088  "
      ]
     },
     "execution_count": 32,
     "metadata": {},
     "output_type": "execute_result"
    }
   ],
   "source": [
    "# list all results\n",
    "prices"
   ]
  },
  {
   "cell_type": "markdown",
   "metadata": {},
   "source": [
    "### Tasks were distributed among four workers - two wokers on Raspberry Pi, and another two wokers on the AMD64 machine. "
   ]
  },
  {
   "cell_type": "markdown",
   "metadata": {},
   "source": [
    "![](./jpgs/musketeer/flower7.jpg)"
   ]
  }
 ],
 "metadata": {
  "anaconda-cloud": {},
  "kernelspec": {
   "display_name": "Python [default]",
   "language": "python",
   "name": "python3"
  },
  "language_info": {
   "codemirror_mode": {
    "name": "ipython",
    "version": 3
   },
   "file_extension": ".py",
   "mimetype": "text/x-python",
   "name": "python",
   "nbconvert_exporter": "python",
   "pygments_lexer": "ipython3",
   "version": "3.5.1"
  }
 },
 "nbformat": 4,
 "nbformat_minor": 0
}
