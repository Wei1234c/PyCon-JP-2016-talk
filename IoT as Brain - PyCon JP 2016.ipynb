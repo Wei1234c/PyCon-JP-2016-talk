{
 "cells": [
  {
   "cell_type": "markdown",
   "metadata": {},
   "source": [
    "# IoT as Brain\n",
    "\n",
    "Wei Lin"
   ]
  },
  {
   "cell_type": "markdown",
   "metadata": {},
   "source": [
    "### Abstract\n",
    " Regarding concurrent/distributed computing, IoT, microservices, serverless-computing are all well known paradigms. With MQTT, IBM Bluemix is one of the leaders in this field, however, free of charge only for 30 days. \n",
    " \n",
    "  \n",
    " With Celery and Docker-Swarm, we can actually build a private IoT system in minutes, free of any charge. To provide an example, a distributed system using Celery and Docker-Swarm modeling a XOR neural-network will be explained below.  \n",
    " \n",
    " ![XOR 網路](https://upload.wikimedia.org/wikipedia/commons/thumb/7/7b/XOR_perceptron_net.png/250px-XOR_perceptron_net.png)"
   ]
  },
  {
   "cell_type": "markdown",
   "metadata": {},
   "source": [
    "## Steps:"
   ]
  },
  {
   "cell_type": "markdown",
   "metadata": {},
   "source": [
    "### 1. Establish a Docker Swarm: \n",
    "With reference to the article \"[Let Docker Swarm all over your Raspberry Pi Cluster](http://blog.hypriot.com/post/let-docker-swarm-all-over-your-raspberry-pi-cluster/)\", a Docker-Swarm had been built upon two Raspberry Pi machines."
   ]
  },
  {
   "cell_type": "markdown",
   "metadata": {},
   "source": [
    "#### The swarm is composited fo two Docker machines:\n",
    "- host rpi202(192.168.0.114) as Swarm Manager，the Docker machine name is \"master01\".\n",
    "- host rpi201(192.168.0.109) as Swarm Node，the Docker machine name is \"node01\"."
   ]
  },
  {
   "cell_type": "code",
   "execution_count": null,
   "metadata": {
    "collapsed": true
   },
   "outputs": [],
   "source": [
    "HypriotOS: pi@rpi202 in ~\n",
    "$ docker-machine ls\n",
    "NAME       ACTIVE   DRIVER    STATE     URL                        SWARM\n",
    "master01            hypriot   Running   tcp://192.168.0.114:2376   master01 (master)\n",
    "node01              hypriot   Running   tcp://192.168.0.109:2376   master01\n",
    "HypriotOS: pi@rpi202 in ~\n",
    "$\n",
    "\n",
    "\n",
    "# Nodes in the swarm:\n",
    "\n",
    "HypriotOS: pi@rpi202 in ~\n",
    "$ docker $(docker-machine config --swarm master01) info\n",
    "Containers: 4\n",
    "Images: 51\n",
    "Role: primary\n",
    "Strategy: spread\n",
    "Filters: health, port, dependency, affinity, constraint\n",
    "Nodes: 2\n",
    " master01: 192.168.0.114:2376\n",
    "  └ Status: Healthy\n",
    "  └ Containers: 3\n",
    "  └ Reserved CPUs: 0 / 4\n",
    "  └ Reserved Memory: 0 B / 972 MiB\n",
    "  └ Labels: executiondriver=native-0.2, kernelversion=4.1.8-hypriotos-v7+, operatingsystem=Raspbian GNU/Linux 8 (jessie), provider=hypriot, storagedriver=overlay\n",
    " node01: 192.168.0.109:2376\n",
    "  └ Status: Healthy\n",
    "  └ Containers: 1\n",
    "  └ Reserved CPUs: 0 / 4\n",
    "  └ Reserved Memory: 0 B / 972 MiB\n",
    "  └ Labels: executiondriver=native-0.2, kernelversion=4.1.8-hypriotos-v7+, operatingsystem=Raspbian GNU/Linux 8 (jessie), provider=hypriot, storagedriver=overlay\n",
    "CPUs: 8\n",
    "Total Memory: 1.899 GiB\n",
    "Name: b7def5d9af98\n",
    "HypriotOS: pi@rpi202 in ~\n",
    "$"
   ]
  },
  {
   "cell_type": "markdown",
   "metadata": {},
   "source": [
    "### 2. Copy celeryconfig.py、start_workers.sh、and the folder \"IoT\" to two hosts, under the folder of /data/celery_projects. "
   ]
  },
  {
   "cell_type": "code",
   "execution_count": null,
   "metadata": {
    "collapsed": true
   },
   "outputs": [],
   "source": [
    "# Swarm manager\n",
    "\n",
    "HypriotOS: pi@rpi202 in /data/celery_projects\n",
    "$ ll\n",
    "total 20\n",
    "drwxr-xr-x 3 999 root 4096 Jan 28 10:08 ./\n",
    "drwxr-xr-x 3 999 root 4096 Jan 28 11:02 ../\n",
    "-rw-r--r-- 1 999 root 1469 Jan 28 10:48 celeryconfig.py\n",
    "drwxr-xr-x 3 999 root 4096 Jan 28 10:08 IoT/\n",
    "-rwxr-xr-x 1 999 root  963 Jan 28 10:28 start_workers.sh*   <-- script to start up worker containers\n",
    "HypriotOS: pi@rpi202 in /data/celery_projects\n",
    "$\n",
    "\n",
    "\n",
    "# Swarm node\n",
    "HypriotOS: pi@rpi201 in /data/celery_projects\n",
    "$ ll\n",
    "total 16\n",
    "drwxr-xr-x 3 root root 4096 Jan 28 12:54 ./\n",
    "drwxr-xr-x 3  999 root 4096 Jan 25 22:55 ../\n",
    "-rw-r--r-- 1 root root 1250 Jan 28 11:27 celeryconfig.py\n",
    "drwxr-xr-x 3 root root 4096 Jan 28 12:54 IoT/\n",
    "HypriotOS: pi@rpi201 in /data/celery_projects\n",
    "$"
   ]
  },
  {
   "cell_type": "markdown",
   "metadata": {},
   "source": [
    "#### Content of start_workers.sh"
   ]
  },
  {
   "cell_type": "code",
   "execution_count": null,
   "metadata": {
    "collapsed": true
   },
   "outputs": [],
   "source": [
    "# ./start_workers.sh\n",
    "\n",
    "PROJECT='IoT'  # project name\n",
    "CONCURRENCY=1  # number of subprocesses per worker.\n",
    "\n",
    "\n",
    "\n",
    "echo \"Starting Redis, Flower _________________________________________________\"\n",
    "eval $(docker-machine env master01)\n",
    "\n",
    "docker run -dit -p 6379:6379 --name=redis -v /data:/data hypriot/rpi-redis\n",
    "docker run -d -p 5555:5555 --name=flower --volume=/data/celery_projects:/celery_projects wei1234c/celery_armv7 /bin/sh -c \"cd /celery_projects && celery -A ${PROJECT} flower\"\n",
    "\n",
    "\n",
    "\n",
    "echo \"Starting Celery cluster containers _________________________________________________\"\n",
    "eval $(docker-machine env --swarm master01)\n",
    "\n",
    "for id in 'x' 'y' 'h1' 'h2' 'h3' 'z'\n",
    "do\n",
    "  docker run -d --name=neuron_${id} --hostname=neuron_${id} --volume=/data/celery_projects:/celery_projects wei1234c/celery_armv7 /bin/sh -c \"cd /celery_projects && celery -A ${PROJECT} worker -n %h -Q neuron_${id} --concurrency=${CONCURRENCY} --loglevel=INFO\"\n",
    "done"
   ]
  },
  {
   "cell_type": "markdown",
   "metadata": {},
   "source": [
    "### Execute start_workers.sh，will do followings:\n",
    "- Establish broker for Celery, using Redis container.\n",
    "- Establish Flower container for monitoring.\n",
    "- Through Swarm Manager, establish Celery worker containers which stand for neurons."
   ]
  },
  {
   "cell_type": "code",
   "execution_count": null,
   "metadata": {
    "collapsed": true
   },
   "outputs": [],
   "source": [
    "HypriotOS: pi@rpi202 in /data/celery_projects\n",
    "$ ./start_workers.sh\n",
    "Starting Redis, Flower _________________________________________________\n",
    "cb706da89689211601b931e88921df1564c939a2cdb3de7bda0f4fa878424553\n",
    "e136f3f443a46b1a1082b26d367c6c146327d54a3eb9f16aa907dd48bce38a47\n",
    "Starting Celery cluster containers _________________________________________________\n",
    "684e3d7b84bfa4713a972d434507473d33adcbaad092e32518a291f7e095c86f\n",
    "8608740a5a86977f82dc2943feb315575a2ca9e38ebb1a2c73842567c87a865d\n",
    "1b5180f0284c8c2aa723c63b4297e57fd35cc5a2c0b1ef5dded3bc3026202f61\n",
    "a6679a9bb651dc735725ecd7b4793f27d598efdd4179c008afaae1e4322b0a42\n",
    "3a59323ae8f61e76e80595a67e98293c0d42f96b1ac47205aff48d863b321aba\n",
    "6c0d6a8bb590961e9947bf1d15587f1c0017b114a466fc7061d2fe888740026e\n",
    "HypriotOS: pi@rpi202 in /data/celery_projects\n",
    "$"
   ]
  },
  {
   "cell_type": "markdown",
   "metadata": {},
   "source": [
    "#### There are 6 neurons:\n",
    "neuron x, y, z, h1, h2 are deployed onto Swarm node \"node01'，"
   ]
  },
  {
   "cell_type": "code",
   "execution_count": null,
   "metadata": {
    "collapsed": true
   },
   "outputs": [],
   "source": [
    "HypriotOS: pi@rpi201 in ~\n",
    "$ docker ps\n",
    "CONTAINER ID        IMAGE                   COMMAND                  CREATED              STATUS              PORTS               NAMES\n",
    "6c0d6a8bb590        wei1234c/celery_armv7   \"/bin/sh -c 'cd /cele\"   About a minute ago   Up About a minute   5555/tcp            neuron_z\n",
    "a6679a9bb651        wei1234c/celery_armv7   \"/bin/sh -c 'cd /cele\"   About a minute ago   Up About a minute   5555/tcp            neuron_h2\n",
    "1b5180f0284c        wei1234c/celery_armv7   \"/bin/sh -c 'cd /cele\"   About a minute ago   Up About a minute   5555/tcp            neuron_h1\n",
    "8608740a5a86        wei1234c/celery_armv7   \"/bin/sh -c 'cd /cele\"   About a minute ago   Up About a minute   5555/tcp            neuron_y\n",
    "684e3d7b84bf        wei1234c/celery_armv7   \"/bin/sh -c 'cd /cele\"   2 minutes ago        Up 2 minutes        5555/tcp            neuron_x\n",
    "ef0c519ae7da        hypriot/rpi-swarm       \"/swarm join --advert\"   4 minutes ago        Up 4 minutes        2375/tcp            swarm-agent\n",
    "HypriotOS: pi@rpi201 in ~\n",
    "$ "
   ]
  },
  {
   "cell_type": "markdown",
   "metadata": {},
   "source": [
    "neuron h3 is deployed onto Swarm node \"master01'，"
   ]
  },
  {
   "cell_type": "code",
   "execution_count": null,
   "metadata": {
    "collapsed": true
   },
   "outputs": [],
   "source": [
    "HypriotOS: pi@rpi202 in /data/celery_projects\n",
    "$ docker ps\n",
    "CONTAINER ID        IMAGE                      COMMAND                  CREATED              STATUS              PORTS                                                                    NAMES\n",
    "3a59323ae8f6        wei1234c/celery_armv7      \"/bin/sh -c 'cd /cele\"   35 seconds ago       Up 32 seconds       5555/tcp                                                                 neuron_h3\n",
    "e136f3f443a4        wei1234c/celery_armv7      \"/bin/sh -c 'cd /cele\"   About a minute ago   Up About a minute   0.0.0.0:5555->5555/tcp                                                   flower\n",
    "cb706da89689        hypriot/rpi-redis          \"/entrypoint.sh redis\"   About a minute ago   Up About a minute   0.0.0.0:6379->6379/tcp                                                   redis\n",
    "966928d0a37c        hypriot/rpi-swarm          \"/swarm join --advert\"   3 minutes ago        Up 3 minutes        2375/tcp                                                                 swarm-agent\n",
    "b01b05cbe323        hypriot/rpi-swarm          \"/swarm manage --tlsv\"   4 minutes ago        Up 4 minutes        2375/tcp, 0.0.0.0:3376->3376/tcp                                         swarm-agent-master\n",
    "ab78ab3e5476        nimblestratus/rpi-consul   \"/bin/start -server -\"   4 minutes ago        Up 4 minutes        53/udp, 8300-8302/tcp, 8400/tcp, 0.0.0.0:8500->8500/tcp, 8301-8302/udp   consul\n",
    "HypriotOS: pi@rpi202 in /data/celery_projects\n",
    "$ "
   ]
  },
  {
   "cell_type": "markdown",
   "metadata": {},
   "source": [
    "#### The whole picture from the view point of Swarm Manager."
   ]
  },
  {
   "cell_type": "code",
   "execution_count": null,
   "metadata": {
    "collapsed": true
   },
   "outputs": [],
   "source": [
    "HypriotOS: pi@rpi202 in /data/celery_projects\n",
    "$ docker $(docker-machine config --swarm master01) ps\n",
    "CONTAINER ID        IMAGE                      COMMAND                  CREATED             STATUS              PORTS                                                                          NAMES\n",
    "6c0d6a8bb590        wei1234c/celery_armv7      \"/bin/sh -c 'cd /cele\"   2 minutes ago       Up 2 minutes        5555/tcp                                                                       node01/neuron_z\n",
    "3a59323ae8f6        wei1234c/celery_armv7      \"/bin/sh -c 'cd /cele\"   2 minutes ago       Up 2 minutes        5555/tcp                                                                       master01/neuron_h3\n",
    "a6679a9bb651        wei1234c/celery_armv7      \"/bin/sh -c 'cd /cele\"   2 minutes ago       Up 2 minutes        5555/tcp                                                                       node01/neuron_h2\n",
    "1b5180f0284c        wei1234c/celery_armv7      \"/bin/sh -c 'cd /cele\"   2 minutes ago       Up 2 minutes        5555/tcp                                                                       node01/neuron_h1\n",
    "8608740a5a86        wei1234c/celery_armv7      \"/bin/sh -c 'cd /cele\"   3 minutes ago       Up 3 minutes        5555/tcp                                                                       node01/neuron_y\n",
    "684e3d7b84bf        wei1234c/celery_armv7      \"/bin/sh -c 'cd /cele\"   3 minutes ago       Up 3 minutes        5555/tcp                                                                       node01/neuron_x\n",
    "e136f3f443a4        wei1234c/celery_armv7      \"/bin/sh -c 'cd /cele\"   3 minutes ago       Up 3 minutes        192.168.0.114:5555->5555/tcp                                                   master01/flower\n",
    "cb706da89689        hypriot/rpi-redis          \"/entrypoint.sh redis\"   3 minutes ago       Up 3 minutes        192.168.0.114:6379->6379/tcp                                                   master01/redis\n",
    "ef0c519ae7da        hypriot/rpi-swarm          \"/swarm join --advert\"   5 minutes ago       Up 5 minutes        2375/tcp                                                                       node01/swarm-agent\n",
    "966928d0a37c        hypriot/rpi-swarm          \"/swarm join --advert\"   5 minutes ago       Up 5 minutes        2375/tcp                                                                       master01/swarm-agent\n",
    "b01b05cbe323        hypriot/rpi-swarm          \"/swarm manage --tlsv\"   5 minutes ago       Up 5 minutes        2375/tcp, 192.168.0.114:3376->3376/tcp                                         master01/swarm-agent-master\n",
    "ab78ab3e5476        nimblestratus/rpi-consul   \"/bin/start -server -\"   6 minutes ago       Up 6 minutes        53/udp, 8300-8302/tcp, 8301-8302/udp, 8400/tcp, 192.168.0.114:8500->8500/tcp   master01/consul\n",
    "HypriotOS: pi@rpi202 in /data/celery_projects\n",
    "$"
   ]
  },
  {
   "cell_type": "markdown",
   "metadata": {},
   "source": [
    "---\n",
    "\n",
    "### <font color=\"red\">Begin to config the neural network.</font>"
   ]
  },
  {
   "cell_type": "code",
   "execution_count": 38,
   "metadata": {
    "collapsed": false
   },
   "outputs": [],
   "source": [
    "from IoT.neuron import * \n",
    "from time import sleep\n",
    "import pandas as pd\n",
    "from pandas import DataFrame\n",
    "\n",
    "pd.options.display.max_colwidth = 400\n",
    "REFRACTORY_PERIOD = 0.1   # 0.1 seconds"
   ]
  },
  {
   "cell_type": "code",
   "execution_count": 39,
   "metadata": {
    "collapsed": false
   },
   "outputs": [],
   "source": [
    "# There are 6 neurons，each one is represented by a Docker container，deployed randomly in Docker Swarm on a arbitrary machine。\n",
    "neurons = ['neuron_x', 'neuron_y', 'neuron_h1', 'neuron_h2', 'neuron_h3', 'neuron_z'] \n",
    "\n",
    "# print log from a neuron.\n",
    "def printConfig(neuron):\n",
    "    print('{0:_^78}\\n {1}\\n'.format(neuron + \" config:\", getConfig.apply_async(routing_key = neuron).get()))\n",
    "\n",
    "# clear logs in all neurons.    \n",
    "def emptyLogs():\n",
    "    for neuron in neurons:\n",
    "        emptyLog.apply_async(routing_key = neuron)\n",
    "\n",
    "# merge all logs from all neurons, into a Pandas.DataFrame\n",
    "def mergeLogs():\n",
    "    logs = []\n",
    "    \n",
    "    for neuron in neurons:\n",
    "        currentLog = getLog.apply_async(routing_key = neuron).get()\n",
    "        logs += currentLog \n",
    "            \n",
    "    df = DataFrame(list(logs), columns = ['time', 'neuron', 'message']) \n",
    "    df.set_index('time', inplace = True)\n",
    "    df.sort_index(inplace = True)\n",
    "    \n",
    "    return df"
   ]
  },
  {
   "cell_type": "markdown",
   "metadata": {},
   "source": [
    "### Clear log files"
   ]
  },
  {
   "cell_type": "code",
   "execution_count": 40,
   "metadata": {
    "collapsed": false
   },
   "outputs": [],
   "source": [
    "# clear all logs in all neurons.\n",
    "emptyLogs()"
   ]
  },
  {
   "cell_type": "markdown",
   "metadata": {
    "collapsed": true
   },
   "source": [
    "### Setup connections\n",
    "#### setup the connections between neurons, same as setting up the  publisher / subscriber relationships in queues. "
   ]
  },
  {
   "cell_type": "code",
   "execution_count": 41,
   "metadata": {
    "collapsed": false
   },
   "outputs": [
    {
     "data": {
      "text/plain": [
       "<AsyncResult: 2c476123-b85e-4a50-8b31-56ab64cb0758>"
      ]
     },
     "execution_count": 41,
     "metadata": {},
     "output_type": "execute_result"
    }
   ],
   "source": [
    "# input layer fan out\n",
    "# neuron x\n",
    "addConnection.apply_async(['neuron_h1'], routing_key = 'neuron_x')  # add neuron_x -> neuron_h1 connection\n",
    "addConnection.apply_async(['neuron_h2'], routing_key = 'neuron_x')\n",
    "# neuron y\n",
    "addConnection.apply_async(['neuron_h2'], routing_key = 'neuron_y')  # add neuron_y -> neuron_h2 connection\n",
    "addConnection.apply_async(['neuron_h3'], routing_key = 'neuron_y')\n",
    "\n",
    "# hidden layer fan out\n",
    "addConnection.apply_async(['neuron_z'], routing_key = 'neuron_h1')  # add neuron_h1 -> neuron_z connection\n",
    "addConnection.apply_async(['neuron_z'], routing_key = 'neuron_h2')\n",
    "addConnection.apply_async(['neuron_z'], routing_key = 'neuron_h3')"
   ]
  },
  {
   "cell_type": "markdown",
   "metadata": {},
   "source": [
    "### Setup weights"
   ]
  },
  {
   "cell_type": "code",
   "execution_count": 42,
   "metadata": {
    "collapsed": false
   },
   "outputs": [
    {
     "data": {
      "text/plain": [
       "<AsyncResult: ca9824e0-05af-4b55-bf5e-3d0b097388ed>"
      ]
     },
     "execution_count": 42,
     "metadata": {},
     "output_type": "execute_result"
    }
   ],
   "source": [
    "# hidden layer\n",
    "setWeight.apply_async(['neuron_x', 1], routing_key = 'neuron_h1')  # set neuron_x -> neuron_h1 weight = 1\n",
    "setWeight.apply_async(['neuron_x', 1], routing_key = 'neuron_h2')\n",
    "setWeight.apply_async(['neuron_y', 1], routing_key = 'neuron_h2')  # set neuron_y -> neuron_h2 weight = 1\n",
    "setWeight.apply_async(['neuron_y', 1], routing_key = 'neuron_h3')\n",
    "\n",
    "# output layer\n",
    "setWeight.apply_async(['neuron_h1', 1], routing_key = 'neuron_z')\n",
    "setWeight.apply_async(['neuron_h2', -2], routing_key = 'neuron_z')  # set neuron_h2 -> neuron_z weight = -2 (inhibitory)\n",
    "setWeight.apply_async(['neuron_h3', 1], routing_key = 'neuron_z') "
   ]
  },
  {
   "cell_type": "markdown",
   "metadata": {},
   "source": [
    "### Setup thresholds"
   ]
  },
  {
   "cell_type": "code",
   "execution_count": 43,
   "metadata": {
    "collapsed": false
   },
   "outputs": [
    {
     "data": {
      "text/plain": [
       "<AsyncResult: 9f2e95ef-72a9-4d10-81a6-9ff41aed1b2d>"
      ]
     },
     "execution_count": 43,
     "metadata": {},
     "output_type": "execute_result"
    }
   ],
   "source": [
    "# input layer \n",
    "setThreshold.apply_async([0.9], routing_key = 'neuron_x')  # set neuron_x threshold = 0.9\n",
    "setThreshold.apply_async([0.9], routing_key = 'neuron_y') \n",
    "\n",
    "# hidden layer\n",
    "setThreshold.apply_async([0.9], routing_key = 'neuron_h1') \n",
    "setThreshold.apply_async([1.9], routing_key = 'neuron_h2')  # set neuron_h2 threshold = 1.9\n",
    "setThreshold.apply_async([0.9], routing_key = 'neuron_h3')\n",
    "\n",
    "# output layer\n",
    "setThreshold.apply_async([0.9], routing_key = 'neuron_z')  # set neuron_z threshold = 0.9"
   ]
  },
  {
   "cell_type": "markdown",
   "metadata": {},
   "source": [
    "### Simulating sensor input，then check the output status of each neurons.\n",
    "note: the output of a neuron will cease after 5 seconds if no sustaining input received."
   ]
  },
  {
   "cell_type": "code",
   "execution_count": 44,
   "metadata": {
    "collapsed": false
   },
   "outputs": [
    {
     "data": {
      "text/html": [
       "<div>\n",
       "<table border=\"1\" class=\"dataframe\">\n",
       "  <thead>\n",
       "    <tr style=\"text-align: right;\">\n",
       "      <th></th>\n",
       "      <th>neuron</th>\n",
       "      <th>message</th>\n",
       "    </tr>\n",
       "    <tr>\n",
       "      <th>time</th>\n",
       "      <th></th>\n",
       "      <th></th>\n",
       "    </tr>\n",
       "  </thead>\n",
       "  <tbody>\n",
       "  </tbody>\n",
       "</table>\n",
       "</div>"
      ],
      "text/plain": [
       "Empty DataFrame\n",
       "Columns: [neuron, message]\n",
       "Index: []"
      ]
     },
     "execution_count": 44,
     "metadata": {},
     "output_type": "execute_result"
    }
   ],
   "source": [
    "### simulating sensor input，force neuron x or neuron y to ouput 1(firing)\n",
    "emptyLogs()  # clear logs\n",
    "sleep(REFRACTORY_PERIOD)  # wait for output to cease. \n",
    "mergeLogs()  # merge logs"
   ]
  },
  {
   "cell_type": "code",
   "execution_count": 45,
   "metadata": {
    "collapsed": false
   },
   "outputs": [
    {
     "data": {
      "text/html": [
       "<div>\n",
       "<table border=\"1\" class=\"dataframe\">\n",
       "  <thead>\n",
       "    <tr style=\"text-align: right;\">\n",
       "      <th></th>\n",
       "      <th>neuron</th>\n",
       "      <th>message</th>\n",
       "    </tr>\n",
       "    <tr>\n",
       "      <th>time</th>\n",
       "      <th></th>\n",
       "      <th></th>\n",
       "    </tr>\n",
       "  </thead>\n",
       "  <tbody>\n",
       "    <tr>\n",
       "      <th>2016-03-10 20:51:18.489509</th>\n",
       "      <td>neuron_x</td>\n",
       "      <td>neuron_x fires.</td>\n",
       "    </tr>\n",
       "    <tr>\n",
       "      <th>2016-03-10 20:51:18.493309</th>\n",
       "      <td>neuron_x</td>\n",
       "      <td>Setting output of neuron_x to ACTION_POTENTIAL.</td>\n",
       "    </tr>\n",
       "    <tr>\n",
       "      <th>2016-03-10 20:51:18.559939</th>\n",
       "      <td>neuron_h1</td>\n",
       "      <td>neuron_x is kicking neuron_h1.</td>\n",
       "    </tr>\n",
       "    <tr>\n",
       "      <th>2016-03-10 20:51:18.581558</th>\n",
       "      <td>neuron_h2</td>\n",
       "      <td>neuron_x is kicking neuron_h2.</td>\n",
       "    </tr>\n",
       "    <tr>\n",
       "      <th>2016-03-10 20:51:18.587120</th>\n",
       "      <td>neuron_h1</td>\n",
       "      <td>neuron_h1 fires.</td>\n",
       "    </tr>\n",
       "    <tr>\n",
       "      <th>2016-03-10 20:51:18.595436</th>\n",
       "      <td>neuron_h1</td>\n",
       "      <td>Setting output of neuron_h1 to ACTION_POTENTIAL.</td>\n",
       "    </tr>\n",
       "    <tr>\n",
       "      <th>2016-03-10 20:51:18.654499</th>\n",
       "      <td>neuron_z</td>\n",
       "      <td>neuron_h1 is kicking neuron_z.</td>\n",
       "    </tr>\n",
       "    <tr>\n",
       "      <th>2016-03-10 20:51:18.689138</th>\n",
       "      <td>neuron_z</td>\n",
       "      <td>neuron_z fires.</td>\n",
       "    </tr>\n",
       "    <tr>\n",
       "      <th>2016-03-10 20:51:18.692448</th>\n",
       "      <td>neuron_z</td>\n",
       "      <td>Setting output of neuron_z to ACTION_POTENTIAL.</td>\n",
       "    </tr>\n",
       "  </tbody>\n",
       "</table>\n",
       "</div>"
      ],
      "text/plain": [
       "                               neuron  \\\n",
       "time                                    \n",
       "2016-03-10 20:51:18.489509   neuron_x   \n",
       "2016-03-10 20:51:18.493309   neuron_x   \n",
       "2016-03-10 20:51:18.559939  neuron_h1   \n",
       "2016-03-10 20:51:18.581558  neuron_h2   \n",
       "2016-03-10 20:51:18.587120  neuron_h1   \n",
       "2016-03-10 20:51:18.595436  neuron_h1   \n",
       "2016-03-10 20:51:18.654499   neuron_z   \n",
       "2016-03-10 20:51:18.689138   neuron_z   \n",
       "2016-03-10 20:51:18.692448   neuron_z   \n",
       "\n",
       "                                                                     message  \n",
       "time                                                                          \n",
       "2016-03-10 20:51:18.489509                                   neuron_x fires.  \n",
       "2016-03-10 20:51:18.493309   Setting output of neuron_x to ACTION_POTENTIAL.  \n",
       "2016-03-10 20:51:18.559939                    neuron_x is kicking neuron_h1.  \n",
       "2016-03-10 20:51:18.581558                    neuron_x is kicking neuron_h2.  \n",
       "2016-03-10 20:51:18.587120                                  neuron_h1 fires.  \n",
       "2016-03-10 20:51:18.595436  Setting output of neuron_h1 to ACTION_POTENTIAL.  \n",
       "2016-03-10 20:51:18.654499                    neuron_h1 is kicking neuron_z.  \n",
       "2016-03-10 20:51:18.689138                                   neuron_z fires.  \n",
       "2016-03-10 20:51:18.692448   Setting output of neuron_z to ACTION_POTENTIAL.  "
      ]
     },
     "execution_count": 45,
     "metadata": {},
     "output_type": "execute_result"
    }
   ],
   "source": [
    "### simulating sensor input，force neuron x or neuron y to ouput 1(firing)\n",
    "emptyLogs()  # clear logs\n",
    "sleep(REFRACTORY_PERIOD)  # wait for output to cease. \n",
    "fire.apply_async(routing_key = 'neuron_x') # force neuron x output 1 and fire.\n",
    "mergeLogs()  # clear logs"
   ]
  },
  {
   "cell_type": "code",
   "execution_count": 46,
   "metadata": {
    "collapsed": false
   },
   "outputs": [
    {
     "data": {
      "text/html": [
       "<div>\n",
       "<table border=\"1\" class=\"dataframe\">\n",
       "  <thead>\n",
       "    <tr style=\"text-align: right;\">\n",
       "      <th></th>\n",
       "      <th>neuron</th>\n",
       "      <th>message</th>\n",
       "    </tr>\n",
       "    <tr>\n",
       "      <th>time</th>\n",
       "      <th></th>\n",
       "      <th></th>\n",
       "    </tr>\n",
       "  </thead>\n",
       "  <tbody>\n",
       "    <tr>\n",
       "      <th>2016-03-10 20:51:21.721563</th>\n",
       "      <td>neuron_y</td>\n",
       "      <td>neuron_y fires.</td>\n",
       "    </tr>\n",
       "    <tr>\n",
       "      <th>2016-03-10 20:51:21.726665</th>\n",
       "      <td>neuron_y</td>\n",
       "      <td>Setting output of neuron_y to ACTION_POTENTIAL.</td>\n",
       "    </tr>\n",
       "    <tr>\n",
       "      <th>2016-03-10 20:51:21.796071</th>\n",
       "      <td>neuron_h3</td>\n",
       "      <td>neuron_y is kicking neuron_h3.</td>\n",
       "    </tr>\n",
       "    <tr>\n",
       "      <th>2016-03-10 20:51:21.818246</th>\n",
       "      <td>neuron_h3</td>\n",
       "      <td>neuron_h3 fires.</td>\n",
       "    </tr>\n",
       "    <tr>\n",
       "      <th>2016-03-10 20:51:21.822734</th>\n",
       "      <td>neuron_h3</td>\n",
       "      <td>Setting output of neuron_h3 to ACTION_POTENTIAL.</td>\n",
       "    </tr>\n",
       "    <tr>\n",
       "      <th>2016-03-10 20:51:21.858226</th>\n",
       "      <td>neuron_h2</td>\n",
       "      <td>neuron_y is kicking neuron_h2.</td>\n",
       "    </tr>\n",
       "    <tr>\n",
       "      <th>2016-03-10 20:51:21.899541</th>\n",
       "      <td>neuron_z</td>\n",
       "      <td>neuron_h3 is kicking neuron_z.</td>\n",
       "    </tr>\n",
       "    <tr>\n",
       "      <th>2016-03-10 20:51:21.922727</th>\n",
       "      <td>neuron_z</td>\n",
       "      <td>neuron_z fires.</td>\n",
       "    </tr>\n",
       "    <tr>\n",
       "      <th>2016-03-10 20:51:21.927111</th>\n",
       "      <td>neuron_z</td>\n",
       "      <td>Setting output of neuron_z to ACTION_POTENTIAL.</td>\n",
       "    </tr>\n",
       "  </tbody>\n",
       "</table>\n",
       "</div>"
      ],
      "text/plain": [
       "                               neuron  \\\n",
       "time                                    \n",
       "2016-03-10 20:51:21.721563   neuron_y   \n",
       "2016-03-10 20:51:21.726665   neuron_y   \n",
       "2016-03-10 20:51:21.796071  neuron_h3   \n",
       "2016-03-10 20:51:21.818246  neuron_h3   \n",
       "2016-03-10 20:51:21.822734  neuron_h3   \n",
       "2016-03-10 20:51:21.858226  neuron_h2   \n",
       "2016-03-10 20:51:21.899541   neuron_z   \n",
       "2016-03-10 20:51:21.922727   neuron_z   \n",
       "2016-03-10 20:51:21.927111   neuron_z   \n",
       "\n",
       "                                                                     message  \n",
       "time                                                                          \n",
       "2016-03-10 20:51:21.721563                                   neuron_y fires.  \n",
       "2016-03-10 20:51:21.726665   Setting output of neuron_y to ACTION_POTENTIAL.  \n",
       "2016-03-10 20:51:21.796071                    neuron_y is kicking neuron_h3.  \n",
       "2016-03-10 20:51:21.818246                                  neuron_h3 fires.  \n",
       "2016-03-10 20:51:21.822734  Setting output of neuron_h3 to ACTION_POTENTIAL.  \n",
       "2016-03-10 20:51:21.858226                    neuron_y is kicking neuron_h2.  \n",
       "2016-03-10 20:51:21.899541                    neuron_h3 is kicking neuron_z.  \n",
       "2016-03-10 20:51:21.922727                                   neuron_z fires.  \n",
       "2016-03-10 20:51:21.927111   Setting output of neuron_z to ACTION_POTENTIAL.  "
      ]
     },
     "execution_count": 46,
     "metadata": {},
     "output_type": "execute_result"
    }
   ],
   "source": [
    "### simulating sensor input，force neuron x or neuron y to ouput 1(firing)\n",
    "emptyLogs()  # clear logs\n",
    "sleep(REFRACTORY_PERIOD)  # wait for output to cease. \n",
    "fire.apply_async(routing_key = 'neuron_y') # force neuron y output 1 and fire.\n",
    "mergeLogs()  # merge logs"
   ]
  },
  {
   "cell_type": "code",
   "execution_count": 47,
   "metadata": {
    "collapsed": false
   },
   "outputs": [
    {
     "data": {
      "text/html": [
       "<div>\n",
       "<table border=\"1\" class=\"dataframe\">\n",
       "  <thead>\n",
       "    <tr style=\"text-align: right;\">\n",
       "      <th></th>\n",
       "      <th>neuron</th>\n",
       "      <th>message</th>\n",
       "    </tr>\n",
       "    <tr>\n",
       "      <th>time</th>\n",
       "      <th></th>\n",
       "      <th></th>\n",
       "    </tr>\n",
       "  </thead>\n",
       "  <tbody>\n",
       "    <tr>\n",
       "      <th>2016-03-10 20:51:25.524156</th>\n",
       "      <td>neuron_x</td>\n",
       "      <td>neuron_x fires.</td>\n",
       "    </tr>\n",
       "    <tr>\n",
       "      <th>2016-03-10 20:51:25.543150</th>\n",
       "      <td>neuron_x</td>\n",
       "      <td>Setting output of neuron_x to ACTION_POTENTIAL.</td>\n",
       "    </tr>\n",
       "    <tr>\n",
       "      <th>2016-03-10 20:51:25.557295</th>\n",
       "      <td>neuron_y</td>\n",
       "      <td>neuron_y fires.</td>\n",
       "    </tr>\n",
       "    <tr>\n",
       "      <th>2016-03-10 20:51:25.561307</th>\n",
       "      <td>neuron_y</td>\n",
       "      <td>Setting output of neuron_y to ACTION_POTENTIAL.</td>\n",
       "    </tr>\n",
       "    <tr>\n",
       "      <th>2016-03-10 20:51:25.620065</th>\n",
       "      <td>neuron_h3</td>\n",
       "      <td>neuron_y is kicking neuron_h3.</td>\n",
       "    </tr>\n",
       "    <tr>\n",
       "      <th>2016-03-10 20:51:25.632281</th>\n",
       "      <td>neuron_h1</td>\n",
       "      <td>neuron_x is kicking neuron_h1.</td>\n",
       "    </tr>\n",
       "    <tr>\n",
       "      <th>2016-03-10 20:51:25.649561</th>\n",
       "      <td>neuron_h1</td>\n",
       "      <td>neuron_h1 fires.</td>\n",
       "    </tr>\n",
       "    <tr>\n",
       "      <th>2016-03-10 20:51:25.649841</th>\n",
       "      <td>neuron_h3</td>\n",
       "      <td>neuron_h3 fires.</td>\n",
       "    </tr>\n",
       "    <tr>\n",
       "      <th>2016-03-10 20:51:25.653656</th>\n",
       "      <td>neuron_h1</td>\n",
       "      <td>Setting output of neuron_h1 to ACTION_POTENTIAL.</td>\n",
       "    </tr>\n",
       "    <tr>\n",
       "      <th>2016-03-10 20:51:25.657057</th>\n",
       "      <td>neuron_h3</td>\n",
       "      <td>Setting output of neuron_h3 to ACTION_POTENTIAL.</td>\n",
       "    </tr>\n",
       "    <tr>\n",
       "      <th>2016-03-10 20:51:25.689440</th>\n",
       "      <td>neuron_h2</td>\n",
       "      <td>neuron_x is kicking neuron_h2.</td>\n",
       "    </tr>\n",
       "    <tr>\n",
       "      <th>2016-03-10 20:51:25.759928</th>\n",
       "      <td>neuron_z</td>\n",
       "      <td>neuron_h1 is kicking neuron_z.</td>\n",
       "    </tr>\n",
       "    <tr>\n",
       "      <th>2016-03-10 20:51:25.787273</th>\n",
       "      <td>neuron_z</td>\n",
       "      <td>neuron_z fires.</td>\n",
       "    </tr>\n",
       "    <tr>\n",
       "      <th>2016-03-10 20:51:25.791270</th>\n",
       "      <td>neuron_z</td>\n",
       "      <td>Setting output of neuron_z to ACTION_POTENTIAL.</td>\n",
       "    </tr>\n",
       "    <tr>\n",
       "      <th>2016-03-10 20:51:25.813897</th>\n",
       "      <td>neuron_h2</td>\n",
       "      <td>neuron_y is kicking neuron_h2.</td>\n",
       "    </tr>\n",
       "    <tr>\n",
       "      <th>2016-03-10 20:51:25.835654</th>\n",
       "      <td>neuron_h2</td>\n",
       "      <td>neuron_h2 fires.</td>\n",
       "    </tr>\n",
       "    <tr>\n",
       "      <th>2016-03-10 20:51:25.842069</th>\n",
       "      <td>neuron_h2</td>\n",
       "      <td>Setting output of neuron_h2 to ACTION_POTENTIAL.</td>\n",
       "    </tr>\n",
       "    <tr>\n",
       "      <th>2016-03-10 20:51:25.869606</th>\n",
       "      <td>neuron_z</td>\n",
       "      <td>neuron_h3 is kicking neuron_z.</td>\n",
       "    </tr>\n",
       "    <tr>\n",
       "      <th>2016-03-10 20:51:25.892445</th>\n",
       "      <td>neuron_z</td>\n",
       "      <td>neuron_z is still in refractory-period.</td>\n",
       "    </tr>\n",
       "    <tr>\n",
       "      <th>2016-03-10 20:51:25.895733</th>\n",
       "      <td>neuron_z</td>\n",
       "      <td>neuron_z is still in refractory_period at action potential, then a neuron neuron_h3 kicks in, now sum_of_weighted_inputs &gt;= threshold.</td>\n",
       "    </tr>\n",
       "    <tr>\n",
       "      <th>2016-03-10 20:51:25.943689</th>\n",
       "      <td>neuron_z</td>\n",
       "      <td>neuron_h2 is kicking neuron_z.</td>\n",
       "    </tr>\n",
       "  </tbody>\n",
       "</table>\n",
       "</div>"
      ],
      "text/plain": [
       "                               neuron  \\\n",
       "time                                    \n",
       "2016-03-10 20:51:25.524156   neuron_x   \n",
       "2016-03-10 20:51:25.543150   neuron_x   \n",
       "2016-03-10 20:51:25.557295   neuron_y   \n",
       "2016-03-10 20:51:25.561307   neuron_y   \n",
       "2016-03-10 20:51:25.620065  neuron_h3   \n",
       "2016-03-10 20:51:25.632281  neuron_h1   \n",
       "2016-03-10 20:51:25.649561  neuron_h1   \n",
       "2016-03-10 20:51:25.649841  neuron_h3   \n",
       "2016-03-10 20:51:25.653656  neuron_h1   \n",
       "2016-03-10 20:51:25.657057  neuron_h3   \n",
       "2016-03-10 20:51:25.689440  neuron_h2   \n",
       "2016-03-10 20:51:25.759928   neuron_z   \n",
       "2016-03-10 20:51:25.787273   neuron_z   \n",
       "2016-03-10 20:51:25.791270   neuron_z   \n",
       "2016-03-10 20:51:25.813897  neuron_h2   \n",
       "2016-03-10 20:51:25.835654  neuron_h2   \n",
       "2016-03-10 20:51:25.842069  neuron_h2   \n",
       "2016-03-10 20:51:25.869606   neuron_z   \n",
       "2016-03-10 20:51:25.892445   neuron_z   \n",
       "2016-03-10 20:51:25.895733   neuron_z   \n",
       "2016-03-10 20:51:25.943689   neuron_z   \n",
       "\n",
       "                                                                                                                                                           message  \n",
       "time                                                                                                                                                                \n",
       "2016-03-10 20:51:25.524156                                                                                                                         neuron_x fires.  \n",
       "2016-03-10 20:51:25.543150                                                                                         Setting output of neuron_x to ACTION_POTENTIAL.  \n",
       "2016-03-10 20:51:25.557295                                                                                                                         neuron_y fires.  \n",
       "2016-03-10 20:51:25.561307                                                                                         Setting output of neuron_y to ACTION_POTENTIAL.  \n",
       "2016-03-10 20:51:25.620065                                                                                                          neuron_y is kicking neuron_h3.  \n",
       "2016-03-10 20:51:25.632281                                                                                                          neuron_x is kicking neuron_h1.  \n",
       "2016-03-10 20:51:25.649561                                                                                                                        neuron_h1 fires.  \n",
       "2016-03-10 20:51:25.649841                                                                                                                        neuron_h3 fires.  \n",
       "2016-03-10 20:51:25.653656                                                                                        Setting output of neuron_h1 to ACTION_POTENTIAL.  \n",
       "2016-03-10 20:51:25.657057                                                                                        Setting output of neuron_h3 to ACTION_POTENTIAL.  \n",
       "2016-03-10 20:51:25.689440                                                                                                          neuron_x is kicking neuron_h2.  \n",
       "2016-03-10 20:51:25.759928                                                                                                          neuron_h1 is kicking neuron_z.  \n",
       "2016-03-10 20:51:25.787273                                                                                                                         neuron_z fires.  \n",
       "2016-03-10 20:51:25.791270                                                                                         Setting output of neuron_z to ACTION_POTENTIAL.  \n",
       "2016-03-10 20:51:25.813897                                                                                                          neuron_y is kicking neuron_h2.  \n",
       "2016-03-10 20:51:25.835654                                                                                                                        neuron_h2 fires.  \n",
       "2016-03-10 20:51:25.842069                                                                                        Setting output of neuron_h2 to ACTION_POTENTIAL.  \n",
       "2016-03-10 20:51:25.869606                                                                                                          neuron_h3 is kicking neuron_z.  \n",
       "2016-03-10 20:51:25.892445                                                                                                 neuron_z is still in refractory-period.  \n",
       "2016-03-10 20:51:25.895733  neuron_z is still in refractory_period at action potential, then a neuron neuron_h3 kicks in, now sum_of_weighted_inputs >= threshold.  \n",
       "2016-03-10 20:51:25.943689                                                                                                          neuron_h2 is kicking neuron_z.  "
      ]
     },
     "execution_count": 47,
     "metadata": {},
     "output_type": "execute_result"
    }
   ],
   "source": [
    "### simulating sensor input，force neuron x or neuron y to ouput 1(firing)\n",
    "emptyLogs()  # clear logs\n",
    "sleep(REFRACTORY_PERIOD)  # wait for output to cease. \n",
    "fire.apply_async(routing_key = 'neuron_x') # force neuron x output 1 and fire.\n",
    "fire.apply_async(routing_key = 'neuron_y') # force neuron y output 1 and fire.\n",
    "mergeLogs()  # merge logs"
   ]
  },
  {
   "cell_type": "markdown",
   "metadata": {},
   "source": [
    "### [Flower](http://192.168.0.114:5555) shows worker and the messages count being processed:\n",
    "\n",
    "![各 neuron 的活動次數](https://github.com/Wei1234c/IOTasBrain/raw/master/celery_projects/jpgs/flower2.jpg \"各 neuron 的活動次數\")"
   ]
  },
  {
   "cell_type": "markdown",
   "metadata": {},
   "source": [
    "### Configuration and Status of each neuron:"
   ]
  },
  {
   "cell_type": "code",
   "execution_count": 48,
   "metadata": {
    "collapsed": false
   },
   "outputs": [
    {
     "name": "stdout",
     "output_type": "stream",
     "text": [
      "_______________________________neuron_z config:_______________________________\n",
      " {'inputs': {'neuron_h1': {'lasting': datetime.timedelta(0, 0, 500000), 'kick_time': datetime.datetime(2016, 3, 10, 20, 51, 25, 763889), 'value': 1}, 'neuron_h2': {'lasting': datetime.timedelta(0, 0, 500000), 'kick_time': datetime.datetime(2016, 3, 10, 20, 51, 25, 946926), 'value': 1}, 'neuron_h3': {'lasting': datetime.timedelta(0, 0, 500000), 'kick_time': datetime.datetime(2016, 3, 10, 20, 51, 25, 873372), 'value': 1}}, 'output': {'lasting': datetime.timedelta(0, 0, 100000), 'polarized_time': datetime.datetime(2016, 3, 10, 20, 51, 25, 803324), 'value': 1}, 'threshold': 0.9, 'weights': {'neuron_h1': 1, 'neuron_h3': 1, 'neuron_h2': -2}}\n",
      "\n",
      "______________________________neuron_h3 config:_______________________________\n",
      " {'inputs': {'neuron_y': {'lasting': datetime.timedelta(0, 0, 500000), 'kick_time': datetime.datetime(2016, 3, 10, 20, 51, 25, 628021), 'value': 1}}, 'threshold': 0.9, 'output': {'lasting': datetime.timedelta(0, 0, 100000), 'polarized_time': datetime.datetime(2016, 3, 10, 20, 51, 25, 660253), 'value': 1}, 'connections': {'neuron_z'}, 'weights': {'neuron_y': 1}}\n",
      "\n",
      "______________________________neuron_h2 config:_______________________________\n",
      " {'inputs': {'neuron_x': {'lasting': datetime.timedelta(0, 0, 500000), 'kick_time': datetime.datetime(2016, 3, 10, 20, 51, 25, 693412), 'value': 1}, 'neuron_y': {'lasting': datetime.timedelta(0, 0, 500000), 'kick_time': datetime.datetime(2016, 3, 10, 20, 51, 25, 817076), 'value': 1}}, 'threshold': 1.9, 'output': {'lasting': datetime.timedelta(0, 0, 100000), 'polarized_time': datetime.datetime(2016, 3, 10, 20, 51, 25, 845780), 'value': 1}, 'connections': {'neuron_z'}, 'weights': {'neuron_x': 1, 'neuron_y': 1}}\n",
      "\n",
      "______________________________neuron_h1 config:_______________________________\n",
      " {'inputs': {'neuron_x': {'lasting': datetime.timedelta(0, 0, 500000), 'kick_time': datetime.datetime(2016, 3, 10, 20, 51, 25, 635170), 'value': 1}}, 'output': {'lasting': datetime.timedelta(0, 0, 100000), 'polarized_time': datetime.datetime(2016, 3, 10, 20, 51, 25, 657518), 'value': 1}, 'weights': {'neuron_x': 1}, 'threshold': 0.9, 'connections': {'neuron_z'}}\n",
      "\n",
      "_______________________________neuron_y config:_______________________________\n",
      " {'inputs': {}, 'output': {'lasting': datetime.timedelta(0, 0, 100000), 'polarized_time': datetime.datetime(2016, 3, 10, 20, 51, 25, 565365), 'value': 1}, 'connections': {'neuron_h2', 'neuron_h3'}, 'threshold': 0.9}\n",
      "\n",
      "_______________________________neuron_x config:_______________________________\n",
      " {'inputs': {}, 'output': {'lasting': datetime.timedelta(0, 0, 100000), 'polarized_time': datetime.datetime(2016, 3, 10, 20, 51, 25, 547371), 'value': 1}, 'connections': {'neuron_h1', 'neuron_h2'}, 'threshold': 0.9}\n",
      "\n"
     ]
    }
   ],
   "source": [
    "for neuron in reversed(neurons): printConfig(neuron)"
   ]
  },
  {
   "cell_type": "markdown",
   "metadata": {},
   "source": [
    "## Summary\n",
    "\n",
    "  In this experiment, we deploy 6 Celery worker containers across Docker-Swarm on two Raspberry Pi machines. Each container represents a neuron and all 6 neurons composite a XOR neural-network. The neural-network functions with distributed neurons  colaborate in a concurrent and distributed fashion."
   ]
  },
  {
   "cell_type": "markdown",
   "metadata": {},
   "source": [
    "### Note (2016/01/31):\n",
    "\n",
    "  XOR networking will probably not exist in realy biological neural-network, for that it requires \"waiting\"  or \"sychronization\" with other neurons. The waiting will induce loss in efficency and therefore seemingly not a good design pattern."
   ]
  },
  {
   "cell_type": "markdown",
   "metadata": {},
   "source": [
    "### References:\n",
    "[Action potential](https://en.wikipedia.org/wiki/Action_potential)  \n",
    "[Neural coding](https://en.wikipedia.org/wiki/Neural_coding)  \n",
    "[Artificial neuron](https://en.wikipedia.org/wiki/Artificial_neuron)  \n",
    "[\"All-or-none\" principle](https://en.wikipedia.org/wiki/Action_potential#.22All-or-none.22_principle)  \n",
    "[Refractory period](https://en.wikipedia.org/wiki/Action_potential#Refractory_period)  \n",
    "- The absolute refractory period is largely responsible for the unidirectional propagation of action potentials along axons.[34] At any given moment, the patch of axon behind the actively spiking part is refractory, but the patch in front, not having been activated recently, is capable of being stimulated by the depolarization from the action potential.  \n",
    "\n",
    "\n"
   ]
  },
  {
   "cell_type": "code",
   "execution_count": null,
   "metadata": {
    "collapsed": true
   },
   "outputs": [],
   "source": []
  }
 ],
 "metadata": {
  "kernelspec": {
   "display_name": "Python 3",
   "language": "python",
   "name": "python3"
  },
  "language_info": {
   "codemirror_mode": {
    "name": "ipython",
    "version": 3
   },
   "file_extension": ".py",
   "mimetype": "text/x-python",
   "name": "python",
   "nbconvert_exporter": "python",
   "pygments_lexer": "ipython3",
   "version": "3.5.1"
  }
 },
 "nbformat": 4,
 "nbformat_minor": 0
}
